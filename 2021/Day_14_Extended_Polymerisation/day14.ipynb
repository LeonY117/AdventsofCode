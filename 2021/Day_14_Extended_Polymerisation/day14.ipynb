{
 "cells": [
  {
   "cell_type": "code",
   "execution_count": 74,
   "metadata": {},
   "outputs": [
    {
     "data": {
      "text/plain": [
       "1588"
      ]
     },
     "execution_count": 74,
     "metadata": {},
     "output_type": "execute_result"
    }
   ],
   "source": [
    "letters = 'NNCB'\n",
    "# letters = 'OOFNFCBHCKBBVNHBNVCP'\n",
    "\n",
    "with open('sample_input.txt') as f:\n",
    "    rules_list = [line.split('\\n')[0].split(' -> ') for line in f.readlines()]\n",
    "\n",
    "rules_dict = {}\n",
    "for rule in rules_list:\n",
    "    rules_dict[rule[0]] = rule[1]\n",
    "\n",
    "for _ in range(10):\n",
    "    next_letters = letters\n",
    "    j = 0\n",
    "    for i in range(len(letters) - 1):\n",
    "        letterPair = letters[i] + letters[i+1]\n",
    "        if letterPair in rules_dict:\n",
    "            insertedLetter = rules_dict[letterPair]\n",
    "            next_letters = next_letters[:j+1] + \\\n",
    "                insertedLetter + next_letters[j+1:]\n",
    "            # print(next_letters)\n",
    "            j += 1\n",
    "        j += 1\n",
    "    letters = next_letters\n",
    "\n",
    "l_dict = {}\n",
    "for l in set(letters):\n",
    "    l_dict[l] = 0\n",
    "\n",
    "for l in letters:\n",
    "    l_dict[l] += 1\n",
    "\n",
    "max(l_dict.values()) - min(l_dict.values())"
   ]
  },
  {
   "cell_type": "code",
   "execution_count": 77,
   "metadata": {},
   "outputs": [
    {
     "data": {
      "text/plain": [
       "3528317079545"
      ]
     },
     "execution_count": 77,
     "metadata": {},
     "output_type": "execute_result"
    }
   ],
   "source": [
    "# Part 2\n",
    "# letters = 'NNCB'\n",
    "letters = 'OOFNFCBHCKBBVNHBNVCP'\n",
    "\n",
    "with open('input.txt') as f:\n",
    "    rules_list = [tuple(line.split('\\n')[0].split(' -> '))\n",
    "                  for line in f.readlines()]\n",
    "\n",
    "rules_dict = {}\n",
    "for rule in rules_list:\n",
    "    rules_dict[rule[0]] = rule[1]\n",
    "\n",
    "count = {}\n",
    "pair_count = {}\n",
    "\n",
    "for pair in rules_dict.keys():\n",
    "    pair_count[pair] = 0\n",
    "\n",
    "for l in set(rules_dict.values()):\n",
    "    count[l] = 0\n",
    "\n",
    "for l in letters:\n",
    "    if l in count:\n",
    "        count[l] += 1\n",
    "    else:\n",
    "        count[l] = 0\n",
    "\n",
    "for i in range(len(letters)-1):\n",
    "    pair = letters[i] + letters[i+1]\n",
    "    if pair in pair_count:\n",
    "        pair_count[pair] += 1\n",
    "\n",
    "\n",
    "for _ in range(40):\n",
    "    pair_count_copy = pair_count.copy()\n",
    "    for pair in pair_count.keys():\n",
    "        c = pair_count[pair]\n",
    "        if (c > 0):\n",
    "            inserted_letter = rules_dict[pair]\n",
    "            count[inserted_letter] += c\n",
    "\n",
    "            new_pair1 = pair[0] + inserted_letter\n",
    "            new_pair2 = inserted_letter + pair[1]\n",
    "            if new_pair1 in pair_count:\n",
    "                pair_count_copy[new_pair1] += c\n",
    "            if new_pair2 in pair_count:\n",
    "                pair_count_copy[new_pair2] += c\n",
    "            pair_count_copy[pair] -= c\n",
    "    pair_count = pair_count_copy.copy()\n",
    "\n",
    "    # print(letter_count)\n",
    "    # print(letter_pair_count)\n",
    "\n",
    "\n",
    "max(count.values()) - min(count.values())"
   ]
  },
  {
   "cell_type": "code",
   "execution_count": 40,
   "metadata": {},
   "outputs": [
    {
     "data": {
      "text/plain": [
       "{'CH': 'B',\n",
       " 'HH': 'N',\n",
       " 'CB': 'H',\n",
       " 'NH': 'C',\n",
       " 'HB': 'C',\n",
       " 'HC': 'B',\n",
       " 'HN': 'C',\n",
       " 'NN': 'C',\n",
       " 'BH': 'H',\n",
       " 'NC': 'B',\n",
       " 'NB': 'B',\n",
       " 'BN': 'B',\n",
       " 'BB': 'N',\n",
       " 'BC': 'B',\n",
       " 'CC': 'N',\n",
       " 'CN': 'C'}"
      ]
     },
     "execution_count": 40,
     "metadata": {},
     "output_type": "execute_result"
    }
   ],
   "source": [
    "rules_dict"
   ]
  },
  {
   "cell_type": "code",
   "execution_count": null,
   "metadata": {},
   "outputs": [],
   "source": []
  }
 ],
 "metadata": {
  "interpreter": {
   "hash": "31f2aee4e71d21fbe5cf8b01ff0e069b9275f58929596ceb00d14d90e3e16cd6"
  },
  "kernelspec": {
   "display_name": "Python 3.8.2 64-bit",
   "language": "python",
   "name": "python3"
  },
  "language_info": {
   "codemirror_mode": {
    "name": "ipython",
    "version": 3
   },
   "file_extension": ".py",
   "mimetype": "text/x-python",
   "name": "python",
   "nbconvert_exporter": "python",
   "pygments_lexer": "ipython3",
   "version": "3.8.2"
  },
  "orig_nbformat": 4
 },
 "nbformat": 4,
 "nbformat_minor": 2
}
