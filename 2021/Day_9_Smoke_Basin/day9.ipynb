{
 "cells": [
  {
   "cell_type": "code",
   "execution_count": 59,
   "metadata": {},
   "outputs": [
    {
     "data": {
      "text/plain": [
       "570.0"
      ]
     },
     "execution_count": 59,
     "metadata": {},
     "output_type": "execute_result"
    }
   ],
   "source": [
    "import numpy as np\n",
    "\n",
    "with open('input.txt') as f:\n",
    "    raw_text = f.readlines()\n",
    "    caveMap = [[int(n) for n in row.split('\\n')[0]] for row in raw_text]\n",
    "\n",
    "width, height = [len(caveMap[0]), len(caveMap)]\n",
    "\n",
    "lowPointMap = [[0] * width]*height\n",
    "lowPointMap = np.zeros((height, width))\n",
    "\n",
    "lowPoints = []\n",
    "\n",
    "for (i, row) in enumerate(caveMap):\n",
    "    for (j, n) in enumerate(row):\n",
    "        # print(n)\n",
    "        # left\n",
    "        if (i > 0):\n",
    "            if caveMap[i-1][j] <= n:\n",
    "                continue\n",
    "        # right\n",
    "        if (i < height-1):\n",
    "            if caveMap[i+1][j] <= n:\n",
    "                continue\n",
    "        # up\n",
    "        if (j > 0):\n",
    "            if caveMap[i][j-1] <= n:\n",
    "                continue\n",
    "\n",
    "        # down\n",
    "        if (j < width - 1):\n",
    "            if caveMap[i][j+1] <= n:\n",
    "                continue\n",
    "\n",
    "        lowPoints.append((i, j))\n",
    "        lowPointMap[i][j] = 1 + n\n",
    "\n",
    "sum(sum(lowPointMap))\n"
   ]
  },
  {
   "cell_type": "code",
   "execution_count": 61,
   "metadata": {},
   "outputs": [
    {
     "name": "stdout",
     "output_type": "stream",
     "text": [
      "[[0. 0. 0. ... 0. 0. 0.]\n",
      " [0. 0. 0. ... 0. 0. 0.]\n",
      " [0. 0. 0. ... 0. 0. 0.]\n",
      " ...\n",
      " [0. 0. 0. ... 0. 0. 0.]\n",
      " [0. 0. 0. ... 0. 0. 0.]\n",
      " [0. 0. 0. ... 0. 0. 0.]]\n",
      "[ 92.  94. 104.]\n",
      "899392.0\n"
     ]
    }
   ],
   "source": [
    "# part 2\n",
    "\n",
    "def searchNeighbors(i, j):\n",
    "    successNeighbors = []\n",
    "    n = caveMap[i][j]\n",
    "    if (i > 0):\n",
    "        if caveMap[i-1][j] > n and caveMap[i-1][j] != 9:\n",
    "            successNeighbors.append((i-1, j))\n",
    "    # right\n",
    "    if (i < height-1):\n",
    "        if caveMap[i+1][j] > n and caveMap[i+1][j] != 9:\n",
    "            successNeighbors.append((i+1, j))\n",
    "    # up\n",
    "    if (j > 0):\n",
    "        if caveMap[i][j-1] > n and caveMap[i][j-1] != 9:\n",
    "            successNeighbors.append((i, j-1))\n",
    "\n",
    "    # down\n",
    "    if (j < width - 1):\n",
    "        if caveMap[i][j+1] > n and caveMap[i][j+1] != 9:\n",
    "            successNeighbors.append((i, j+1))\n",
    "\n",
    "    return successNeighbors\n",
    "\n",
    "\n",
    "basinSizeMap = np.zeros((height, width))\n",
    "\n",
    "for p in lowPoints:\n",
    "    # new points\n",
    "    neighbors = searchNeighbors(p[0], p[1])\n",
    "    visitedSet = set(neighbors + [p])\n",
    "    basinSize = 1\n",
    "\n",
    "    while len(neighbors) > 0:\n",
    "        basinSize += len(neighbors)\n",
    "        neighborsCopy = []\n",
    "        for n in neighbors:\n",
    "            neighborsCopy += searchNeighbors(n[0], n[1])\n",
    "        neighborsCopy = set(neighborsCopy) - visitedSet\n",
    "        # print(neighborsCopy)\n",
    "        visitedSet = visitedSet | neighborsCopy\n",
    "        neighbors = list(neighborsCopy)\n",
    "\n",
    "    basinSizeMap[p[0]][p[1]] = len(list(visitedSet))\n",
    "\n",
    "print(basinSizeMap)\n",
    "basinSizeMap = basinSizeMap.flatten()\n",
    "basinSizeMap.sort()\n",
    "print(basinSizeMap[-3:])\n",
    "print(np.prod(basinSizeMap[-3:]))\n"
   ]
  },
  {
   "cell_type": "code",
   "execution_count": 47,
   "metadata": {},
   "outputs": [
    {
     "data": {
      "text/plain": [
       "[[2, 1, 9, 9, 9, 4, 3, 2, 1, 0],\n",
       " [3, 9, 8, 7, 8, 9, 4, 9, 2, 1],\n",
       " [9, 8, 5, 6, 7, 8, 9, 8, 9, 2],\n",
       " [8, 7, 6, 7, 8, 9, 6, 7, 8, 9],\n",
       " [9, 8, 9, 9, 9, 6, 5, 6, 7, 8]]"
      ]
     },
     "execution_count": 47,
     "metadata": {},
     "output_type": "execute_result"
    }
   ],
   "source": [
    "caveMap"
   ]
  },
  {
   "cell_type": "code",
   "execution_count": null,
   "metadata": {},
   "outputs": [],
   "source": []
  },
  {
   "cell_type": "code",
   "execution_count": null,
   "metadata": {},
   "outputs": [],
   "source": [
    "#470162 is too low\n",
    "# 1302210 is too high"
   ]
  }
 ],
 "metadata": {
  "interpreter": {
   "hash": "31f2aee4e71d21fbe5cf8b01ff0e069b9275f58929596ceb00d14d90e3e16cd6"
  },
  "kernelspec": {
   "display_name": "Python 3.8.2 64-bit",
   "language": "python",
   "name": "python3"
  },
  "language_info": {
   "codemirror_mode": {
    "name": "ipython",
    "version": 3
   },
   "file_extension": ".py",
   "mimetype": "text/x-python",
   "name": "python",
   "nbconvert_exporter": "python",
   "pygments_lexer": "ipython3",
   "version": "3.8.2"
  },
  "orig_nbformat": 4
 },
 "nbformat": 4,
 "nbformat_minor": 2
}
