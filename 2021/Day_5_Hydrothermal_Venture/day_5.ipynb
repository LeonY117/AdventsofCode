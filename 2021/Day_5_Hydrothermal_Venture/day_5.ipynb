{
 "cells": [
  {
   "cell_type": "code",
   "execution_count": 68,
   "metadata": {},
   "outputs": [],
   "source": [
    "import numpy as np\n"
   ]
  },
  {
   "cell_type": "code",
   "execution_count": 91,
   "metadata": {},
   "outputs": [],
   "source": [
    "\n",
    "def isNotStraight(coords):\n",
    "    return (not coords[0][1] == coords[1][1] and not coords[0][0] == coords[1][0])\n",
    "\n",
    "\n",
    "# clean up input\n",
    "with open('input.txt', 'r') as f:\n",
    "    raw_lines = f.readlines()\n",
    "\n",
    "lines = []\n",
    "for (i, line) in enumerate(raw_lines):\n",
    "    out_line = line.split('\\n')[0].split(' -> ')\n",
    "    out_line = [np.array(out_line[0].split(','), int),\n",
    "                np.array(out_line[1].split(','), int)]\n",
    "    if not isNotStraight(out_line):\n",
    "        lines.append(out_line)\n",
    "\n",
    "\n",
    "def isHorizontal(coords):\n",
    "    return (coords[0][1] == coords[1][1])\n",
    "\n",
    "def isVertical(coords):\n",
    "    return (coords[0][0] == coords[1][0])\n",
    "\n",
    "\n",
    "def getOverlappedPoints(line1, line2):\n",
    "    out_coords = []\n",
    "    if (isHorizontal(line1) and isHorizontal(line2) and line1[0][1] == line2[0][1]):\n",
    "        line1.sort(key=lambda x: x[0])\n",
    "        line2.sort(key=lambda x: x[0])\n",
    "        for i in range(max(line1[0][0], line2[0][0]), min(line1[1][0], line2[1][0])+1):\n",
    "            out_coords.append((i, line1[0][1]))\n",
    "    elif (isVertical(line1) and isVertical(line2) and line1[0][0] == line2[0][0]):\n",
    "        line1.sort(key=lambda x: x[1])\n",
    "        line2.sort(key=lambda x: x[1])\n",
    "        for i in range(max(line1[0][1], line2[0][1]), min(line1[1][1], line2[1][1])+1):\n",
    "            out_coords.append((line1[0][0], i))\n",
    "    else:\n",
    "        if (isHorizontal(line1) and isVertical(line2)):\n",
    "            h_line = line1\n",
    "            v_line = line2\n",
    "        else:\n",
    "            h_line = line2\n",
    "            v_line = line1\n",
    "            # only overlaps if the y coord of h_line is bounded by y range of v_line\n",
    "        if (h_line[0][1] >= min(v_line[0][1], v_line[1][1]) and h_line[0][1] <= max(v_line[0][1], v_line[1][1])):\n",
    "            # only overlaps if the x coord of v_line is bounded by x range of h_line\n",
    "            if (v_line[0][0] >= min(h_line[0][0], h_line[1][0]) and v_line[0][0] <= max(h_line[0][0], h_line[1][0])):\n",
    "                out_coords.append((v_line[0][0], h_line[0][1]))\n",
    "\n",
    "    if (len(out_coords) > 0):\n",
    "        # print(f'{line1} and {line2} overlap at {out_coords}')\n",
    "        pass\n",
    "    return out_coords\n"
   ]
  },
  {
   "cell_type": "code",
   "execution_count": 92,
   "metadata": {},
   "outputs": [
    {
     "name": "stdout",
     "output_type": "stream",
     "text": [
      "5092\n"
     ]
    }
   ],
   "source": [
    "point_set = set()\n",
    "\n",
    "for i in range(len(lines)):\n",
    "    line = lines[i]\n",
    "    for j in range(i+1, len(lines), 1):\n",
    "        compared_line = lines[j]\n",
    "        points = getOverlappedPoints(line, compared_line)\n",
    "        for p in points:\n",
    "            point_set.add(p)\n",
    "\n",
    "print(len(point_set))\n"
   ]
  },
  {
   "cell_type": "code",
   "execution_count": null,
   "metadata": {},
   "outputs": [],
   "source": []
  }
 ],
 "metadata": {
  "interpreter": {
   "hash": "31f2aee4e71d21fbe5cf8b01ff0e069b9275f58929596ceb00d14d90e3e16cd6"
  },
  "kernelspec": {
   "display_name": "Python 3.8.2 64-bit",
   "language": "python",
   "name": "python3"
  },
  "language_info": {
   "codemirror_mode": {
    "name": "ipython",
    "version": 3
   },
   "file_extension": ".py",
   "mimetype": "text/x-python",
   "name": "python",
   "nbconvert_exporter": "python",
   "pygments_lexer": "ipython3",
   "version": "3.8.2"
  },
  "orig_nbformat": 4
 },
 "nbformat": 4,
 "nbformat_minor": 2
}
