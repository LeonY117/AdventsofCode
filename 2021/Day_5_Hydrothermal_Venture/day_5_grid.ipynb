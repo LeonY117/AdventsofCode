{
 "cells": [
  {
   "cell_type": "code",
   "execution_count": 1,
   "metadata": {},
   "outputs": [],
   "source": [
    "import numpy as np"
   ]
  },
  {
   "cell_type": "code",
   "execution_count": 62,
   "metadata": {},
   "outputs": [],
   "source": [
    "\n",
    "def isNotStraight(coords):\n",
    "    return (not coords[0][1] == coords[1][1] and not coords[0][0] == coords[1][0])\n",
    "\n",
    "\n",
    "# clean up input\n",
    "with open('input.txt', 'r') as f:\n",
    "    raw_lines = f.readlines()\n",
    "\n",
    "lines = []\n",
    "for (i, line) in enumerate(raw_lines):\n",
    "    out_line = line.split('\\n')[0].split(' -> ')\n",
    "    out_line = [np.array(out_line[0].split(','), int),\n",
    "                np.array(out_line[1].split(','), int)]\n",
    "    # if not isNotStraight(out_line):\n",
    "    lines.append(out_line)\n",
    "    # lines.append(out_line)\n"
   ]
  },
  {
   "cell_type": "code",
   "execution_count": 63,
   "metadata": {},
   "outputs": [
    {
     "data": {
      "text/plain": [
       "20484"
      ]
     },
     "execution_count": 63,
     "metadata": {},
     "output_type": "execute_result"
    }
   ],
   "source": [
    "gridsize_x = max([(max(point1[0], point2[0])) for (point1, point2) in lines])\n",
    "gridsize_y = max([(max(point1[1], point2[1])) for (point1, point2) in lines])\n",
    "\n",
    "grid = np.zeros(shape=(gridsize_x+1, gridsize_y+1))\n",
    "\n",
    "for line in lines:\n",
    "    p1 = line[0]\n",
    "    p2 = line[1]\n",
    "\n",
    "    p1_x, p1_y = p1[0], p1[1]\n",
    "    p2_x, p2_y = p2[0], p2[1]\n",
    "\n",
    "    # will be either 1 or -1 or 0\n",
    "    x_step_size = np.sign((p2_x-p1_x))\n",
    "    y_step_size = np.sign((p2_y-p1_y))\n",
    "\n",
    "    for i in range(max(abs(p1_x - p2_x), abs(p1_y - p2_y)) + 1):\n",
    "        grid[p1_x + x_step_size*i][p1_y + y_step_size*i] += 1\n",
    "sum = 0\n",
    "for i in grid:\n",
    "    for j in i:\n",
    "        if j > 1:\n",
    "            sum += 1\n",
    "\n",
    "sum\n"
   ]
  },
  {
   "cell_type": "code",
   "execution_count": null,
   "metadata": {},
   "outputs": [],
   "source": []
  }
 ],
 "metadata": {
  "interpreter": {
   "hash": "31f2aee4e71d21fbe5cf8b01ff0e069b9275f58929596ceb00d14d90e3e16cd6"
  },
  "kernelspec": {
   "display_name": "Python 3.8.2 64-bit",
   "language": "python",
   "name": "python3"
  },
  "language_info": {
   "codemirror_mode": {
    "name": "ipython",
    "version": 3
   },
   "file_extension": ".py",
   "mimetype": "text/x-python",
   "name": "python",
   "nbconvert_exporter": "python",
   "pygments_lexer": "ipython3",
   "version": "3.8.2"
  },
  "orig_nbformat": 4
 },
 "nbformat": 4,
 "nbformat_minor": 2
}
