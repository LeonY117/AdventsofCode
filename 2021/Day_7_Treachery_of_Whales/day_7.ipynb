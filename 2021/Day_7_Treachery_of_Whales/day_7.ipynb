{
 "cells": [
  {
   "cell_type": "code",
   "execution_count": 20,
   "metadata": {},
   "outputs": [
    {
     "data": {
      "text/plain": [
       "345035.0"
      ]
     },
     "execution_count": 20,
     "metadata": {},
     "output_type": "execute_result"
    }
   ],
   "source": [
    "import numpy as np\n",
    "\n",
    "# crabs = [16,1,2,0,4,2,7,1,2,14]\n",
    "with open('input.txt') as f:\n",
    "    crabs = [int(n) for n in f.readline().split(',')]\n",
    "\n",
    "# distance = |crab-x|\n",
    "# min(sum(|crab-x|)) = median\n",
    "\n",
    "median = np.median(crabs)\n",
    "\n",
    "total_fuel = sum([abs(c-median) for c in crabs])\n",
    "\n",
    "total_fuel"
   ]
  },
  {
   "cell_type": "code",
   "execution_count": 30,
   "metadata": {},
   "outputs": [
    {
     "name": "stdout",
     "output_type": "stream",
     "text": [
      "97038163.0\n",
      "478\n",
      "478\n",
      "97038163.0\n"
     ]
    }
   ],
   "source": [
    "# part 2\n",
    "def getDistance(crab, mid):\n",
    "    return abs(crab-mid)\n",
    "\n",
    "\n",
    "def getFuel(d):\n",
    "    return ((1+d) * d / 2)\n",
    "\n",
    "# linear search\n",
    "fuel_costs = []\n",
    "for mid in range(max(crabs)):\n",
    "    fuel_cost = sum([getFuel(getDistance(c, mid)) for c in crabs])\n",
    "    fuel_costs.append(fuel_cost)\n",
    "\n",
    "print(min(fuel_costs))\n",
    "print(np.argmin(fuel_costs))\n",
    "\n",
    "\n",
    "# binary search\n",
    "# more efficient if len(crabs) >> max(crabs)\n",
    "l = 0\n",
    "r = max(crabs)-1\n",
    "while True:\n",
    "    mid = (l+r)//2\n",
    "    fuel_cost = sum([getFuel(getDistance(c, mid)) for c in crabs])\n",
    "    # search left:\n",
    "    mid_left = max(mid-1, 0)\n",
    "    fuel_left = sum([getFuel(getDistance(c, mid_left)) for c in crabs])\n",
    "    # search right:\n",
    "    mid_right = min(mid+1, max(crabs))\n",
    "    fuel_right = sum([getFuel(getDistance(c, mid_right)) for c in crabs])\n",
    "\n",
    "    if (fuel_cost <= fuel_left and fuel_cost <= fuel_right):\n",
    "        print(mid)\n",
    "        print(fuel_cost)\n",
    "        break\n",
    "    \n",
    "    if (fuel_cost > fuel_left):\n",
    "        r = mid\n",
    "    elif (fuel_cost > fuel_right):\n",
    "        l = mid\n",
    "\n",
    "    \n"
   ]
  }
 ],
 "metadata": {
  "interpreter": {
   "hash": "31f2aee4e71d21fbe5cf8b01ff0e069b9275f58929596ceb00d14d90e3e16cd6"
  },
  "kernelspec": {
   "display_name": "Python 3.8.2 64-bit",
   "language": "python",
   "name": "python3"
  },
  "language_info": {
   "codemirror_mode": {
    "name": "ipython",
    "version": 3
   },
   "file_extension": ".py",
   "mimetype": "text/x-python",
   "name": "python",
   "nbconvert_exporter": "python",
   "pygments_lexer": "ipython3",
   "version": "3.8.2"
  },
  "orig_nbformat": 4
 },
 "nbformat": 4,
 "nbformat_minor": 2
}
