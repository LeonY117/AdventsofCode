{
 "cells": [
  {
   "cell_type": "code",
   "execution_count": 6,
   "metadata": {},
   "outputs": [
    {
     "name": "stdout",
     "output_type": "stream",
     "text": [
      "[[20 32 76 50 55]\n",
      " [ 4 70 14 36 82]\n",
      " [74 10 97 26 87]\n",
      " [61 83 56 98 71]\n",
      " [64 38  8 65 92]]\n",
      "[[1. 0. 1. 1. 1.]\n",
      " [1. 1. 1. 1. 0.]\n",
      " [1. 1. 0. 1. 1.]\n",
      " [1. 1. 1. 1. 1.]\n",
      " [1. 1. 1. 0. 1.]]\n",
      "276.0\n",
      "61\n",
      "16836\n"
     ]
    }
   ],
   "source": [
    "import re\n",
    "import numpy as np\n",
    "\n",
    "input_list = [4, 75, 74, 31, 76, 79, 27, 19, 69, 46, 98, 59, 83, 23, 90, 52, 87, 6, 11, 92, 80, 51, 43, 5, 94, 17, 15, 67, 25, 30, 48, 47, 62, 71, 85, 58, 60, 1, 72, 99, 3, 35, 42, 10, 96, 49, 37, 36, 8,\n",
    "              44, 70, 40, 45, 39, 0, 63, 2, 78, 68, 53, 50, 77, 20, 55, 38, 86, 54, 93, 26, 88, 12, 91, 95, 34, 9, 14, 33, 66, 41, 13, 28, 57, 29, 73, 56, 22, 89, 21, 64, 61, 32, 65, 97, 84, 18, 82, 81, 7, 16, 24]\n",
    "# input_list = [7, 4, 9, 5, 11, 17, 23, 2, 0, 14, 21, 24,10, 16, 13, 6, 15, 25, 12, 22, 18, 20, 8, 19, 3, 26, 1]\n",
    "\n",
    "\n",
    "with open('input.txt') as f:\n",
    "    raw_data = f.readlines()\n",
    "    raw_data = ('').join(raw_data).split('\\n\\n')\n",
    "\n",
    "    boards = []\n",
    "    for raw_matrix in raw_data:\n",
    "        boards.append([[int(n) for n in re.split(\"\\s+\", row) if n != '']\n",
    "                      for row in raw_matrix.split('\\n')])\n",
    "\n",
    "    boards = np.array(boards)\n",
    "\n",
    "\n",
    "def callNum(n, board, ticks):\n",
    "    for (i, row) in enumerate(board):\n",
    "        for (j, cell) in enumerate(row):\n",
    "            if cell == n:\n",
    "                ticks[i][j] = 1\n",
    "                return\n",
    "\n",
    "\n",
    "def checkBingo(board, ticks):\n",
    "    # check for horizontal\n",
    "    # if any(sum == 5 for sum in np.sum(ticks, axis = 0)):\n",
    "    #     return True\n",
    "    # # check for vertical\n",
    "    # if any(sum == 5 for sum in np.sum(ticks, axis = 0)):\n",
    "    #     return True\n",
    "    # else:\n",
    "    #     return False\n",
    "    for row in ticks:\n",
    "        if all(n == 1 for n in row):\n",
    "            return np.sum(np.sum(board*ticks))\n",
    "\n",
    "    ticks_t = np.transpose(ticks)\n",
    "    for col in ticks_t:\n",
    "        if all(n == 1 for n in col):\n",
    "            return np.sum(np.sum(board*ticks))\n",
    "    else:\n",
    "        return False\n",
    "\n",
    "\n",
    "ticks = np.zeros((len(boards), 5, 5))\n",
    "\n",
    "boardNum = len(ticks)\n",
    "found_bingo = False\n",
    "for num in input_list:\n",
    "    if not found_bingo:\n",
    "        success_boards = []\n",
    "        for (i, board) in enumerate(boards):\n",
    "            callNum(num, board, ticks[i])\n",
    "            success = checkBingo(board, ticks[i])\n",
    "            if (success != False):\n",
    "                if (len(boards) == 1):\n",
    "                    sum = np.sum(np.sum(board)) - success\n",
    "                    print(board)\n",
    "                    print(ticks[i])\n",
    "                    print(sum)\n",
    "                    print(num)\n",
    "                    print(int(sum * num))\n",
    "                    found_bingo = True\n",
    "                    break\n",
    "                else:\n",
    "                    success_boards.append(i)\n",
    "        boards = np.delete(boards, success_boards, axis=0)\n",
    "        ticks = np.delete(ticks, success_boards, axis=0)\n"
   ]
  },
  {
   "cell_type": "code",
   "execution_count": 88,
   "metadata": {},
   "outputs": [
    {
     "data": {
      "text/plain": [
       "(99, 5, 5)"
      ]
     },
     "execution_count": 88,
     "metadata": {},
     "output_type": "execute_result"
    }
   ],
   "source": [
    "boards.shape"
   ]
  },
  {
   "cell_type": "code",
   "execution_count": null,
   "metadata": {},
   "outputs": [],
   "source": []
  }
 ],
 "metadata": {
  "interpreter": {
   "hash": "31f2aee4e71d21fbe5cf8b01ff0e069b9275f58929596ceb00d14d90e3e16cd6"
  },
  "kernelspec": {
   "display_name": "Python 3.8.2 64-bit",
   "language": "python",
   "name": "python3"
  },
  "language_info": {
   "codemirror_mode": {
    "name": "ipython",
    "version": 3
   },
   "file_extension": ".py",
   "mimetype": "text/x-python",
   "name": "python",
   "nbconvert_exporter": "python",
   "pygments_lexer": "ipython3",
   "version": "3.8.2"
  },
  "orig_nbformat": 4
 },
 "nbformat": 4,
 "nbformat_minor": 2
}
