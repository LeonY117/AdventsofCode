{
 "cells": [
  {
   "cell_type": "code",
   "execution_count": 3,
   "metadata": {},
   "outputs": [
    {
     "data": {
      "text/plain": [
       "1721148811504"
      ]
     },
     "execution_count": 3,
     "metadata": {},
     "output_type": "execute_result"
    }
   ],
   "source": [
    "import numpy as np\n",
    "\n",
    "# fishList = [3, 4, 3, 1, 2]\n",
    "fishList = [5,1,2,1,5,3,1,1,1,1,1,2,5,4,1,1,1,1,2,1,2,1,1,1,1,1,2,1,5,1,1,1,3,1,1,1,3,1,1,3,1,1,4,3,1,1,4,1,1,1,1,2,1,1,1,5,1,1,5,1,1,1,4,4,2,5,1,1,5,1,1,2,2,1,2,1,1,5,3,1,2,1,1,3,1,4,3,3,1,1,3,1,5,1,1,3,1,1,4,4,1,1,1,5,1,1,1,4,4,1,3,1,4,1,1,4,5,1,1,1,4,3,1,4,1,1,4,4,3,5,1,2,2,1,2,2,1,1,1,2,1,1,1,4,1,1,3,1,1,2,1,4,1,1,1,1,1,1,1,1,2,2,1,1,5,5,1,1,1,5,1,1,1,1,5,1,3,2,1,1,5,2,3,1,2,2,2,5,1,1,3,1,1,1,5,1,4,1,1,1,3,2,1,3,3,1,3,1,1,1,1,1,1,1,2,3,1,5,1,4,1,3,5,1,1,1,2,2,1,1,1,1,5,4,1,1,3,1,2,4,2,1,1,3,5,1,1,1,3,1,1,1,5,1,1,1,1,1,3,1,1,1,4,1,1,1,1,2,2,1,1,1,1,5,3,1,2,3,4,1,1,5,1,2,4,2,1,1,1,2,1,1,1,1,1,1,1,4,1,5]\n",
    "\n",
    "\n",
    "# def fishgrows(num):\n",
    "#     num -= 1\n",
    "#     if (num < 0):\n",
    "#         return 6\n",
    "#     else:\n",
    "#         return num\n",
    "\n",
    "# for _ in range(256):\n",
    "#     new_fishList = []\n",
    "#     for (i, fish) in enumerate(fishList):\n",
    "#         if fish == 0:\n",
    "#             new_fishList.append(8)\n",
    "#         fishList[i] = fishgrows(fish)\n",
    "#     fishList += new_fishList\n",
    "\n",
    "# len(fishList)\n",
    "\n",
    "\n",
    "d = [0] * 9\n",
    "\n",
    "for i in range(0, 9):\n",
    "    d[i] = len(list(filter(lambda x : x==i, fishList)))\n",
    "\n",
    "for _ in range(256):\n",
    "    d_copy = [0] * 9\n",
    "    for i in range(0, 8):\n",
    "        d_copy[i] = d[i+1]\n",
    "    d_copy[8] = d[0]\n",
    "    d_copy[6] += d[0]\n",
    "    d = d_copy\n",
    "\n",
    "    # print(d)\n",
    "\n",
    "sum(d)\n"
   ]
  },
  {
   "cell_type": "code",
   "execution_count": null,
   "metadata": {},
   "outputs": [],
   "source": []
  }
 ],
 "metadata": {
  "interpreter": {
   "hash": "31f2aee4e71d21fbe5cf8b01ff0e069b9275f58929596ceb00d14d90e3e16cd6"
  },
  "kernelspec": {
   "display_name": "Python 3.8.2 64-bit",
   "language": "python",
   "name": "python3"
  },
  "language_info": {
   "codemirror_mode": {
    "name": "ipython",
    "version": 3
   },
   "file_extension": ".py",
   "mimetype": "text/x-python",
   "name": "python",
   "nbconvert_exporter": "python",
   "pygments_lexer": "ipython3",
   "version": "3.8.2"
  },
  "orig_nbformat": 4
 },
 "nbformat": 4,
 "nbformat_minor": 2
}
