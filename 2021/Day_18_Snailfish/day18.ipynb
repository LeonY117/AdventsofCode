{
 "cells": [
  {
   "cell_type": "code",
   "execution_count": 134,
   "metadata": {},
   "outputs": [
    {
     "name": "stdout",
     "output_type": "stream",
     "text": [
      "[[[[7,0],[7,7]],[[7,7],[7,7]]],[[[7,7],[8,7]],[[7,7],[7,6]]]]\n",
      "['4017']\n"
     ]
    }
   ],
   "source": [
    "with open('input.txt') as f:\n",
    "    lines = [line.split('\\n')[0] for line in f.readlines()]\n",
    "\n",
    "\n",
    "def stringToArray(line):\n",
    "    # preserves integer as one item\n",
    "    # e.g. [15, 5] -> ['[', '15', ',', '5', ']']\n",
    "    out = []\n",
    "    i = 0\n",
    "    while i < len(line):\n",
    "        if line[i] == '[' or line[i] == ']' or line[i] == ',':\n",
    "            out.append(line[i])\n",
    "            i += 1\n",
    "        else:\n",
    "            s = ''\n",
    "            for j in range(i, len(line)):\n",
    "                if line[j] == '[' or line[j] == ']' or line[j] == ',':\n",
    "                    break\n",
    "                else:\n",
    "                    s += line[j]\n",
    "            # print(s)\n",
    "            i += len(s)\n",
    "            out.append(s)\n",
    "    return out\n",
    "\n",
    "\n",
    "def split(line):\n",
    "    # print(line)\n",
    "    line = stringToArray(line)\n",
    "    for (i, c) in enumerate(line):\n",
    "        if c == '[' or c == ']' or c == ',':\n",
    "            pass\n",
    "        else:\n",
    "            n = int(c)\n",
    "            if n >= 10:\n",
    "                l = n//2\n",
    "                r = n - l\n",
    "                # print(f'splitting {n} into {l} and {r}')\n",
    "                # print(\n",
    "                #     f\"return: {''.join(line[:i] + [f'[{l},{r}]'] + line[i+1:])}\")\n",
    "                return ''.join(line[:i] + [f'[{l},{r}]'] + line[i+1:])\n",
    "    return ''.join(line)\n",
    "\n",
    "\n",
    "def explode(line):\n",
    "    # print(line)\n",
    "    line = stringToArray(line)\n",
    "    stack = []  # counts the hierachy\n",
    "    for (i, c) in enumerate(line):\n",
    "        if c == '[':\n",
    "            stack.append(c)\n",
    "        elif c == ']':\n",
    "            stack.pop()\n",
    "        if len(stack) == 5:\n",
    "            # explode the pair\n",
    "            l, r = line[i+1], line[i+3]\n",
    "            # print((l, r))\n",
    "            # initilize pointer\n",
    "            p = i\n",
    "            # Left number:\n",
    "            # print('checking left')\n",
    "            while p >= 0:\n",
    "                if line[p] == '[' or line[p] == ']' or line[p] == ',':\n",
    "                    p -= 1\n",
    "                else:\n",
    "                    # print(\n",
    "                    #     f'found {line[p]} @ {p}, add {l} to get {str(int(line[p]) + int(l))}')\n",
    "                    line[p] = str(int(line[p]) + int(l))\n",
    "                    # print(''.join(line))\n",
    "                    break\n",
    "            p = i + 4\n",
    "            # Right number:\n",
    "            # print('checking right')\n",
    "            while p < len(line):\n",
    "                if line[p] == '[' or line[p] == ']' or line[p] == ',':\n",
    "                    p += 1\n",
    "                else:\n",
    "                    # print(\n",
    "                    #     f'found {line[p]} @ {p}, add {r} to get {str(int(line[p]) + int(r))}')\n",
    "                    line[p] = str(int(line[p]) + int(r))\n",
    "                    # print(''.join(line))\n",
    "                    break\n",
    "                # [a,b] => 0\n",
    "            # print(f\"return: {''.join(line[:i] + ['0'] + line[i+5:])}\")\n",
    "            return ''.join(line[:i] + ['0'] + line[i+5:])\n",
    "    return ''.join(line)\n",
    "\n",
    "\n",
    "def getMagnitude(line):\n",
    "    line = stringToArray(line)\n",
    "    while len(line) > 1:\n",
    "        for (i, c) in enumerate(line):\n",
    "            if c == ']':\n",
    "                l = line[i-3]\n",
    "                r = line[i-1]\n",
    "                # print((l, r))\n",
    "                total = str(int(l) * 3 + int(r) * 2)\n",
    "                if i+1 == len(line):\n",
    "                    line = [total]\n",
    "                line = line[:i-4] + [total] + line[i+1:]\n",
    "                # print(''.join(line))\n",
    "                break\n",
    "    return line\n",
    "\n",
    "current_line = lines.pop(0)\n",
    "for _ in range(len(lines)):\n",
    "    # print(current_line)\n",
    "\n",
    "    current_line = '[' + current_line + ',' + lines.pop(0) + ']'\n",
    "\n",
    "    # explode\n",
    "    temp_line = explode(current_line)\n",
    "    while temp_line != current_line:\n",
    "        while temp_line != current_line:\n",
    "            current_line = temp_line\n",
    "            temp_line = explode(current_line)\n",
    "        # split\n",
    "        temp_line = split(current_line)\n",
    "    # split\n",
    "\n",
    "magnitude = getMagnitude(current_line)\n",
    "print(current_line)\n",
    "print(magnitude)\n"
   ]
  },
  {
   "cell_type": "code",
   "execution_count": 142,
   "metadata": {},
   "outputs": [
    {
     "data": {
      "text/plain": [
       "3993"
      ]
     },
     "execution_count": 142,
     "metadata": {},
     "output_type": "execute_result"
    }
   ],
   "source": [
    "# part 2\n",
    "\n",
    "with open('sample_input2.txt') as f:\n",
    "    lines = [line.split('\\n')[0] for line in f.readlines()]\n",
    "\n",
    "def getSum(line1, line2):\n",
    "    current_line = '[' + line1 + ',' + line2 + ']'\n",
    "\n",
    "    # explode\n",
    "    temp_line = explode(current_line)\n",
    "    while temp_line != current_line:\n",
    "        while temp_line != current_line:\n",
    "            current_line = temp_line\n",
    "            temp_line = explode(current_line)\n",
    "        # split\n",
    "        temp_line = split(current_line)\n",
    "    \n",
    "    magnitude = int(getMagnitude(current_line)[0])\n",
    "    return magnitude\n",
    "\n",
    "magnitudes = []\n",
    "for i in range(len(lines)):\n",
    "    line = lines.pop(0)\n",
    "    for j in range(len(lines) - 1):\n",
    "        magnitudes.append(getSum(line, lines[j]))\n",
    "    lines.append(line)\n",
    "\n",
    "max(magnitudes)\n",
    "#4583"
   ]
  },
  {
   "cell_type": "code",
   "execution_count": 140,
   "metadata": {},
   "outputs": [
    {
     "data": {
      "text/plain": [
       "3799"
      ]
     },
     "execution_count": 140,
     "metadata": {},
     "output_type": "execute_result"
    }
   ],
   "source": [
    "getSum(lines[0], lines[1])"
   ]
  },
  {
   "cell_type": "code",
   "execution_count": null,
   "metadata": {},
   "outputs": [],
   "source": []
  }
 ],
 "metadata": {
  "interpreter": {
   "hash": "bab2cfe8660232e2470daa12285dfb6af5c9f92a172586fbcf059f8d56eda216"
  },
  "kernelspec": {
   "display_name": "Python 3.8.0 64-bit ('3.8.0': pyenv)",
   "language": "python",
   "name": "python3"
  },
  "language_info": {
   "codemirror_mode": {
    "name": "ipython",
    "version": 3
   },
   "file_extension": ".py",
   "mimetype": "text/x-python",
   "name": "python",
   "nbconvert_exporter": "python",
   "pygments_lexer": "ipython3",
   "version": "3.8.0"
  },
  "orig_nbformat": 4
 },
 "nbformat": 4,
 "nbformat_minor": 2
}
