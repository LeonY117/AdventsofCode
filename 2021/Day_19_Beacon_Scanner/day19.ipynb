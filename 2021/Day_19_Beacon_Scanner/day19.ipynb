{
 "cells": [
  {
   "cell_type": "code",
   "execution_count": 68,
   "metadata": {},
   "outputs": [
    {
     "name": "stdout",
     "output_type": "stream",
     "text": [
      "[[[ 0.000e+00  0.000e+00  0.000e+00]\n",
      "  [ 8.100e+01 -1.000e+00  1.630e+02]\n",
      "  [ 1.710e+02 -4.950e+02  9.390e+02]\n",
      "  ...\n",
      "  [-1.210e+02  9.210e+02  1.289e+03]\n",
      "  [-6.900e+01  7.760e+02  1.197e+03]\n",
      "  [ 1.330e+02 -4.670e+02  9.680e+02]]\n",
      "\n",
      " [[-8.100e+01  1.000e+00 -1.630e+02]\n",
      "  [ 0.000e+00  0.000e+00  0.000e+00]\n",
      "  [ 9.000e+01 -4.940e+02  7.760e+02]\n",
      "  ...\n",
      "  [-2.020e+02  9.220e+02  1.126e+03]\n",
      "  [-1.500e+02  7.770e+02  1.034e+03]\n",
      "  [ 5.200e+01 -4.660e+02  8.050e+02]]\n",
      "\n",
      " [[-1.710e+02  4.950e+02 -9.390e+02]\n",
      "  [-9.000e+01  4.940e+02 -7.760e+02]\n",
      "  [ 0.000e+00  0.000e+00  0.000e+00]\n",
      "  ...\n",
      "  [-2.920e+02  1.416e+03  3.500e+02]\n",
      "  [-2.400e+02  1.271e+03  2.580e+02]\n",
      "  [-3.800e+01  2.800e+01  2.900e+01]]\n",
      "\n",
      " ...\n",
      "\n",
      " [[ 1.210e+02 -9.210e+02 -1.289e+03]\n",
      "  [ 2.020e+02 -9.220e+02 -1.126e+03]\n",
      "  [ 2.920e+02 -1.416e+03 -3.500e+02]\n",
      "  ...\n",
      "  [ 0.000e+00  0.000e+00  0.000e+00]\n",
      "  [ 5.200e+01 -1.450e+02 -9.200e+01]\n",
      "  [ 2.540e+02 -1.388e+03 -3.210e+02]]\n",
      "\n",
      " [[ 6.900e+01 -7.760e+02 -1.197e+03]\n",
      "  [ 1.500e+02 -7.770e+02 -1.034e+03]\n",
      "  [ 2.400e+02 -1.271e+03 -2.580e+02]\n",
      "  ...\n",
      "  [-5.200e+01  1.450e+02  9.200e+01]\n",
      "  [ 0.000e+00  0.000e+00  0.000e+00]\n",
      "  [ 2.020e+02 -1.243e+03 -2.290e+02]]\n",
      "\n",
      " [[-1.330e+02  4.670e+02 -9.680e+02]\n",
      "  [-5.200e+01  4.660e+02 -8.050e+02]\n",
      "  [ 3.800e+01 -2.800e+01 -2.900e+01]\n",
      "  ...\n",
      "  [-2.540e+02  1.388e+03  3.210e+02]\n",
      "  [-2.020e+02  1.243e+03  2.290e+02]\n",
      "  [ 0.000e+00  0.000e+00  0.000e+00]]]\n"
     ]
    }
   ],
   "source": [
    "import numpy as np\n",
    "import matplotlib.pyplot as plt\n",
    "\n",
    "with open('sample_input.txt') as f:\n",
    "    scanners = [[[int(n) for n in beacon.split(',')] for beacon in scanner] for scanner in [\n",
    "        s.split('\\n')[1:] for s in ''.join(f.readlines()).split('\\n\\n')]]\n",
    "\n",
    "# we keep scanners[0] the same orientation\n",
    "# create 24 distinct orientations for all other scanners (?)\n",
    "\n",
    "# for every beacon in each scanner:\n",
    "    # get relative coordinate to every other beacon and store in [25 x 25 x 3]\n",
    "\n",
    "rel_coord_matrices = []\n",
    "\n",
    "for scanner in scanners:\n",
    "    num_beacons = len(scanner)\n",
    "    rel_coord_matrix = np.zeros(shape=(num_beacons, num_beacons, 3))\n",
    "    for (i, b1) in enumerate(scanner):\n",
    "        for (j, b2) in enumerate(scanner):\n",
    "            rel_coord_matrix[i][j] = (np.array(b1) - np.array(b2))\n",
    "    rel_coord_matrices.append(rel_coord_matrix)\n",
    "\n",
    "# print(rel_coord_matrices[0])\n",
    "print(rel_coord_matrices[1])\n",
    "\n"
   ]
  },
  {
   "cell_type": "code",
   "execution_count": 64,
   "metadata": {},
   "outputs": [
    {
     "data": {
      "text/plain": [
       "(26, 26, 3)"
      ]
     },
     "execution_count": 64,
     "metadata": {},
     "output_type": "execute_result"
    }
   ],
   "source": [
    "rel_coord_matrix.shape"
   ]
  },
  {
   "cell_type": "code",
   "execution_count": 14,
   "metadata": {},
   "outputs": [
    {
     "name": "stdout",
     "output_type": "stream",
     "text": [
      "1\n",
      "10\n",
      "11\n",
      "1\n"
     ]
    }
   ],
   "source": [
    "x2 = 0\n",
    "x = 101\n",
    "        \n",
    "while x2 < x:\n",
    "    tempX = x\n",
    "    x2 += x2 * 10 + x % 10\n",
    "    x = x // 10\n",
    "\n",
    "    print(x2)\n",
    "    print(x)"
   ]
  },
  {
   "cell_type": "code",
   "execution_count": null,
   "metadata": {},
   "outputs": [],
   "source": []
  }
 ],
 "metadata": {
  "interpreter": {
   "hash": "bab2cfe8660232e2470daa12285dfb6af5c9f92a172586fbcf059f8d56eda216"
  },
  "kernelspec": {
   "display_name": "Python 3.8.0 64-bit ('3.8.0': pyenv)",
   "language": "python",
   "name": "python3"
  },
  "language_info": {
   "codemirror_mode": {
    "name": "ipython",
    "version": 3
   },
   "file_extension": ".py",
   "mimetype": "text/x-python",
   "name": "python",
   "nbconvert_exporter": "python",
   "pygments_lexer": "ipython3",
   "version": "3.8.0"
  },
  "orig_nbformat": 4
 },
 "nbformat": 4,
 "nbformat_minor": 2
}
