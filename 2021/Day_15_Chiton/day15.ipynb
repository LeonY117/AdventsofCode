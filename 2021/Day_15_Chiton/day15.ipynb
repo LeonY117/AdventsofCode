{
 "cells": [
  {
   "cell_type": "code",
   "execution_count": 1,
   "metadata": {},
   "outputs": [],
   "source": [
    "import numpy as np\n",
    "import heapdict\n",
    "\n",
    "with open('input.txt') as f:\n",
    "    grid = [line.split('\\n')[0] for line in f.readlines()]\n",
    "    grid = np.array([[int(n) for n in line] for line in grid]\n",
    "                    )\n"
   ]
  },
  {
   "cell_type": "markdown",
   "metadata": {},
   "source": [
    "Dijkstra's algorithm (from wikipedia)\n",
    "\n",
    "```\n",
    " 1  function Dijkstra(Graph, source):\n",
    " 2\n",
    " 3      create vertex set Q\n",
    " 4\n",
    " 5      for each vertex v in Graph:\n",
    " 6          dist[v] ← INFINITY\n",
    " 7          prev[v] ← UNDEFINED\n",
    " 8          add v to Q\n",
    " 9      dist[source] ← 0\n",
    "10\n",
    "11      while Q is not empty:\n",
    "12          u ← vertex in Q with min dist[u]\n",
    "13\n",
    "14          remove u from Q\n",
    "15\n",
    "16          for each neighbor v of u still in Q:\n",
    "17              alt ← dist[u] + length(u, v)\n",
    "18              if alt < dist[v]:\n",
    "19                  dist[v] ← alt\n",
    "20                  prev[v] ← u\n",
    "21\n",
    "22      return dist[], prev[]\n",
    "```\n",
    "\n",
    "Using a priority queue\n",
    "\n",
    "```\n",
    "1  function Dijkstra(Graph, source):\n",
    "2      dist[source] ← 0                           // Initialization\n",
    "3\n",
    "4      create vertex priority queue Q\n",
    "5\n",
    "6      for each vertex v in Graph:          \n",
    "7          if v ≠ source\n",
    "8              dist[v] ← INFINITY                 // Unknown distance from source to v\n",
    "9              prev[v] ← UNDEFINED                // Predecessor of v\n",
    "10\n",
    "11         Q.add_with_priority(v, dist[v])\n",
    "12\n",
    "13\n",
    "14     while Q is not empty:                      // The main loop\n",
    "15         u ← Q.extract_min()                    // Remove and return best vertex\n",
    "16         for each neighbor v of u:              // only v that are still in Q\n",
    "17             alt ← dist[u] + length(u, v)\n",
    "18             if alt < dist[v]\n",
    "19                 dist[v] ← alt\n",
    "20                 prev[v] ← u\n",
    "21                 Q.decrease_priority(v, alt)\n",
    "22\n",
    "23     return dist, prev\n",
    "```\n"
   ]
  },
  {
   "cell_type": "code",
   "execution_count": 2,
   "metadata": {},
   "outputs": [
    {
     "name": "stdout",
     "output_type": "stream",
     "text": [
      "reached\n"
     ]
    }
   ],
   "source": [
    "def getNeighborCoords(v, max_x, max_y):\n",
    "    ret = []\n",
    "    x, y = v[0], v[1]\n",
    "    if (x - 1 >= 0):\n",
    "        ret.append((x-1, y))\n",
    "    if (x + 1 < max_x):\n",
    "        ret.append((x+1, y))\n",
    "    if (y - 1 >= 0):\n",
    "        ret.append((x, y-1))\n",
    "    if (y + 1) < max_y:\n",
    "        ret.append((x, y+1))\n",
    "    return ret\n",
    "\n",
    "\n",
    "max_x = len(grid[0])\n",
    "max_y = len(grid)\n",
    "source = (0, 0)\n",
    "target = (max_x - 1, max_y-1)\n",
    "\n",
    "# Form vertex set Q\n",
    "def dijkstra(grid, source, target):\n",
    "    # Q = set()\n",
    "    Q = heapdict.heapdict()\n",
    "    dist = {}\n",
    "    prev = {}\n",
    "    dist[source] = 0\n",
    "    Q[source] = 0\n",
    "    prev[source] = None\n",
    "    for (i, row) in enumerate(grid):\n",
    "        for (j, n) in enumerate(row):\n",
    "            v = (i, j)\n",
    "            if v != source:\n",
    "                # Q.add(v)\n",
    "                value = max_x * max_y * 9\n",
    "                dist[v] = value\n",
    "                prev[v] = None\n",
    "                # Q.put((value, v))\n",
    "                Q[v] = value\n",
    "    while len(Q) > 0:\n",
    "        # d = {v: dist[v] for v in Q}\n",
    "        # u = min(d, key=d.get)\n",
    "        u = Q.popitem()\n",
    "        u = u[0]\n",
    "        if u == target:\n",
    "            print('reached')\n",
    "            break\n",
    "        for v in getNeighborCoords(u, max_x, max_y):\n",
    "            if v in Q:\n",
    "                alt = dist[u] + grid[v]\n",
    "                if alt < dist[v]:\n",
    "                    dist[v] = alt\n",
    "                    prev[v] = u\n",
    "                    Q[v] = alt\n",
    "    return dist, prev\n",
    "\n",
    "dist, prev = dijkstra(grid, source, target)"
   ]
  },
  {
   "cell_type": "code",
   "execution_count": 3,
   "metadata": {},
   "outputs": [
    {
     "data": {
      "text/plain": [
       "523"
      ]
     },
     "execution_count": 3,
     "metadata": {},
     "output_type": "execute_result"
    }
   ],
   "source": [
    "def getTotalRisk(grid, prev):\n",
    "    S = []\n",
    "    u = (max_x-1, max_y-1)\n",
    "\n",
    "    if prev[u] or u == (0, 0):\n",
    "        while u:\n",
    "            S.insert(0, u)\n",
    "            u = prev[u]\n",
    "\n",
    "    return sum([grid[v] for v in S]) - grid[(0, 0)]\n",
    "\n",
    "getTotalRisk(grid, prev)\n"
   ]
  },
  {
   "cell_type": "code",
   "execution_count": 4,
   "metadata": {},
   "outputs": [],
   "source": [
    "def clipNum(n):\n",
    "    if n > 9:\n",
    "        return n - 9\n",
    "    else:\n",
    "        return n\n",
    "\n",
    "\n",
    "# Part 2\n",
    "mult = 5\n",
    "bigGrid = np.zeros(shape=(max_x * mult, max_y * mult))\n",
    "\n",
    "for (i, row) in enumerate(grid):\n",
    "    for (j, n) in enumerate(row):\n",
    "        for ii in range(mult):\n",
    "            for jj in range(mult):\n",
    "                bigGrid[i + ii * max_x][j + jj *\n",
    "                                       max_x] = clipNum(grid[i][j] + ii+jj)\n",
    "\n"
   ]
  },
  {
   "cell_type": "code",
   "execution_count": 5,
   "metadata": {},
   "outputs": [
    {
     "name": "stdout",
     "output_type": "stream",
     "text": [
      "reached\n"
     ]
    }
   ],
   "source": [
    "max_x = len(bigGrid[0])\n",
    "max_y = len(bigGrid)\n",
    "source = (0, 0)\n",
    "target = (max_x - 1, max_y-1)\n",
    "\n",
    "dist, prev = dijkstra(bigGrid, source, target)\n"
   ]
  },
  {
   "cell_type": "code",
   "execution_count": 6,
   "metadata": {},
   "outputs": [
    {
     "data": {
      "text/plain": [
       "2876.0"
      ]
     },
     "execution_count": 6,
     "metadata": {},
     "output_type": "execute_result"
    }
   ],
   "source": [
    "getTotalRisk(bigGrid, prev)"
   ]
  },
  {
   "cell_type": "code",
   "execution_count": null,
   "metadata": {},
   "outputs": [],
   "source": []
  }
 ],
 "metadata": {
  "interpreter": {
   "hash": "31f2aee4e71d21fbe5cf8b01ff0e069b9275f58929596ceb00d14d90e3e16cd6"
  },
  "kernelspec": {
   "display_name": "Python 3.8.2 64-bit",
   "language": "python",
   "name": "python3"
  },
  "language_info": {
   "codemirror_mode": {
    "name": "ipython",
    "version": 3
   },
   "file_extension": ".py",
   "mimetype": "text/x-python",
   "name": "python",
   "nbconvert_exporter": "python",
   "pygments_lexer": "ipython3",
   "version": "3.8.0"
  },
  "orig_nbformat": 4
 },
 "nbformat": 4,
 "nbformat_minor": 2
}
