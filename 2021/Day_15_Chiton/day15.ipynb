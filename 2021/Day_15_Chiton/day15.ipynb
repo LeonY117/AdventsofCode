{
 "cells": [
  {
   "cell_type": "code",
   "execution_count": 126,
   "metadata": {},
   "outputs": [],
   "source": [
    "import numpy as np\n",
    "\n",
    "with open('input.txt') as f:\n",
    "    grid = [line.split('\\n')[0] for line in f.readlines()]\n",
    "    grid = np.array([[int(n) for n in line] for line in grid]\n",
    "                    )\n"
   ]
  },
  {
   "cell_type": "markdown",
   "metadata": {},
   "source": [
    "### Dijkstra's algorithm\n",
    "\n",
    "```\n",
    " 1  function Dijkstra(Graph, source):\n",
    " 2\n",
    " 3      create vertex set Q\n",
    " 4\n",
    " 5      for each vertex v in Graph:\n",
    " 6          dist[v] ← INFINITY\n",
    " 7          prev[v] ← UNDEFINED\n",
    " 8          add v to Q\n",
    " 9      dist[source] ← 0\n",
    "10\n",
    "11      while Q is not empty:\n",
    "12          u ← vertex in Q with min dist[u]\n",
    "13\n",
    "14          remove u from Q\n",
    "15\n",
    "16          for each neighbor v of u still in Q:\n",
    "17              alt ← dist[u] + length(u, v)\n",
    "18              if alt < dist[v]:\n",
    "19                  dist[v] ← alt\n",
    "20                  prev[v] ← u\n",
    "21\n",
    "22      return dist[], prev[]\n",
    "```\n"
   ]
  },
  {
   "cell_type": "code",
   "execution_count": 127,
   "metadata": {},
   "outputs": [
    {
     "name": "stdout",
     "output_type": "stream",
     "text": [
      "reached\n"
     ]
    }
   ],
   "source": [
    "def getNeighborCoords(v, max_x, max_y):\n",
    "    ret = []\n",
    "    x, y = v[0], v[1]\n",
    "    if (x - 1 >= 0):\n",
    "        ret.append((x-1, y))\n",
    "    if (x + 1 < max_x):\n",
    "        ret.append((x+1, y))\n",
    "    if (y - 1 >= 0):\n",
    "        ret.append((x, y-1))\n",
    "    if (y + 1) < max_y:\n",
    "        ret.append((x, y+1))\n",
    "    return ret\n",
    "\n",
    "\n",
    "max_x = len(grid[0])\n",
    "max_y = len(grid)\n",
    "source = (0, 0)\n",
    "target = (max_x - 1, max_y-1)\n",
    "\n",
    "# Form vertex set Q\n",
    "\n",
    "def dijkstra(grid, source, target):\n",
    "    Q = set()\n",
    "    dist = {}\n",
    "    prev = {}\n",
    "    for (i, row) in enumerate(grid):\n",
    "        for (j, n) in enumerate(row):\n",
    "            v = (i, j)\n",
    "            Q.add(v)\n",
    "            dist[v] = 9999\n",
    "            prev[v] = None\n",
    "    dist[source] = 0\n",
    "\n",
    "    while len(Q) > 0:\n",
    "        d = {v: dist[v] for v in Q}\n",
    "        u = min(d, key=d.get)\n",
    "        Q.remove(u)\n",
    "        if u == target:\n",
    "            print('reached')\n",
    "            break\n",
    "        for v in getNeighborCoords(u, max_x, max_y):\n",
    "            if v in Q:\n",
    "                alt = dist[u] + grid[v]\n",
    "                if alt < dist[v]:\n",
    "                    dist[v] = alt\n",
    "                    prev[v] = u\n",
    "    return dist, prev\n",
    "\n",
    "\n",
    "dist, prev = dijkstra(grid, source, target)\n"
   ]
  },
  {
   "cell_type": "code",
   "execution_count": 123,
   "metadata": {},
   "outputs": [
    {
     "name": "stdout",
     "output_type": "stream",
     "text": [
      "[(0, 0), (0, 1), (1, 1), (2, 1), (2, 2), (2, 3), (2, 4), (2, 5), (2, 6), (2, 7), (2, 8), (2, 9), (2, 10), (2, 11), (2, 12), (2, 13), (2, 14), (3, 14), (3, 15), (3, 16), (3, 17), (4, 17), (5, 17), (6, 17), (7, 17), (8, 17), (9, 17), (10, 17), (10, 18), (11, 18), (11, 19), (12, 19), (12, 20), (12, 21), (12, 22), (13, 22), (14, 22), (14, 23), (14, 24), (14, 25), (14, 26), (15, 26), (16, 26), (17, 26), (17, 27), (18, 27), (18, 28), (19, 28), (19, 29), (19, 30), (19, 31), (19, 32), (20, 32), (20, 33), (20, 34), (20, 35), (21, 35), (22, 35), (23, 35), (23, 36), (23, 37), (23, 38), (23, 39), (24, 39), (24, 40), (24, 41), (25, 41), (25, 42), (26, 42), (27, 42), (27, 43), (27, 44), (28, 44), (29, 44), (30, 44), (30, 45), (30, 46), (31, 46), (32, 46), (32, 47), (32, 48), (33, 48), (34, 48), (34, 49), (34, 50), (35, 50), (36, 50), (37, 50), (38, 50), (39, 50), (39, 51), (40, 51), (40, 52), (41, 52), (42, 52), (43, 52), (43, 53), (43, 54), (43, 55), (43, 56), (43, 57), (44, 57), (45, 57), (46, 57), (46, 58), (47, 58), (48, 58), (48, 59), (49, 59), (50, 59), (51, 59), (52, 59), (53, 59), (54, 59), (55, 59), (55, 60), (56, 60), (57, 60), (58, 60), (58, 61), (58, 62), (58, 63), (58, 64), (59, 64), (59, 65), (59, 66), (59, 67), (60, 67), (60, 68), (61, 68), (61, 69), (62, 69), (62, 70), (62, 71), (62, 72), (63, 72), (64, 72), (65, 72), (65, 73), (66, 73), (66, 74), (67, 74), (67, 75), (67, 76), (68, 76), (69, 76), (70, 76), (71, 76), (72, 76), (72, 77), (73, 77), (74, 77), (75, 77), (76, 77), (76, 78), (77, 78), (78, 78), (79, 78), (80, 78), (81, 78), (82, 78), (83, 78), (84, 78), (84, 79), (85, 79), (85, 80), (86, 80), (87, 80), (87, 81), (88, 81), (89, 81), (90, 81), (90, 82), (90, 83), (90, 84), (90, 85), (91, 85), (92, 85), (93, 85), (93, 86), (93, 87), (93, 88), (93, 89), (93, 90), (93, 91), (94, 91), (94, 92), (94, 93), (95, 93), (96, 93), (97, 93), (97, 94), (98, 94), (99, 94), (99, 95), (99, 96), (99, 97), (99, 98), (99, 99)]\n"
     ]
    },
    {
     "data": {
      "text/plain": [
       "523"
      ]
     },
     "execution_count": 123,
     "metadata": {},
     "output_type": "execute_result"
    }
   ],
   "source": [
    "def getTotalRisk(grid, prev):\n",
    "    S = []\n",
    "    u = (max_x-1, max_y-1)\n",
    "\n",
    "    if prev[u] or u == (0, 0):\n",
    "        while u:\n",
    "            S.insert(0, u)\n",
    "            u = prev[u]\n",
    "\n",
    "    print(S)\n",
    "    return sum([grid[v] for v in S]) - grid[(0, 0)]\n",
    "\n",
    "\n",
    "getTotalRisk(grid, prev)\n"
   ]
  },
  {
   "cell_type": "code",
   "execution_count": 124,
   "metadata": {},
   "outputs": [],
   "source": [
    "def clipNum(n):\n",
    "    if n > 9:\n",
    "        return n - 9\n",
    "    else:\n",
    "        return n\n",
    "\n",
    "\n",
    "# Part 2\n",
    "mult = 5\n",
    "bigGrid = np.zeros(shape=(max_x * mult, max_y * mult))\n",
    "\n",
    "for (i, row) in enumerate(grid):\n",
    "    for (j, n) in enumerate(row):\n",
    "        for ii in range(mult):\n",
    "            for jj in range(mult):\n",
    "                bigGrid[i + ii * max_x][j + jj *\n",
    "                                       max_x] = clipNum(grid[i][j] + ii+jj)\n",
    "\n"
   ]
  },
  {
   "cell_type": "code",
   "execution_count": null,
   "metadata": {},
   "outputs": [],
   "source": [
    "max_x = len(bigGrid[0])\n",
    "max_y = len(bigGrid)\n",
    "source = (0, 0)\n",
    "target = (max_x - 1, max_y-1)\n",
    "\n",
    "dist, prev = dijkstra(bigGrid, source, target)\n"
   ]
  },
  {
   "cell_type": "code",
   "execution_count": null,
   "metadata": {},
   "outputs": [
    {
     "name": "stdout",
     "output_type": "stream",
     "text": [
      "[(0, 0), (1, 0), (2, 0), (2, 1), (2, 2), (2, 3), (2, 4), (2, 5), (2, 6), (3, 6), (3, 7), (4, 7), (4, 8), (4, 9), (5, 9), (5, 10), (5, 11), (5, 12), (5, 13), (6, 13), (6, 14), (6, 15), (6, 16), (6, 17), (6, 18), (6, 19), (7, 19), (8, 19), (8, 20), (8, 21), (8, 22), (9, 22), (9, 23), (9, 24), (10, 24), (11, 24), (11, 25), (12, 25), (12, 26), (13, 26), (14, 26), (15, 26), (16, 26), (17, 26), (18, 26), (19, 26), (20, 26), (20, 27), (21, 27), (21, 28), (22, 28), (23, 28), (23, 29), (23, 30), (23, 31), (23, 32), (24, 32), (25, 32), (26, 32), (26, 33), (27, 33), (27, 34), (27, 35), (27, 36), (27, 37), (28, 37), (29, 37), (29, 38), (30, 38), (31, 38), (32, 38), (33, 38), (33, 39), (33, 40), (33, 41), (34, 41), (35, 41), (36, 41), (36, 42), (36, 43), (37, 43), (38, 43), (38, 44), (38, 45), (39, 45), (39, 46), (39, 47), (40, 47), (41, 47), (42, 47), (42, 48), (43, 48), (44, 48), (45, 48), (46, 48), (47, 48), (48, 48), (49, 48), (49, 49)]\n"
     ]
    },
    {
     "data": {
      "text/plain": [
       "315.0"
      ]
     },
     "execution_count": 120,
     "metadata": {},
     "output_type": "execute_result"
    }
   ],
   "source": [
    "getTotalRisk(bigGrid, prev)"
   ]
  },
  {
   "cell_type": "code",
   "execution_count": null,
   "metadata": {},
   "outputs": [],
   "source": []
  }
 ],
 "metadata": {
  "interpreter": {
   "hash": "31f2aee4e71d21fbe5cf8b01ff0e069b9275f58929596ceb00d14d90e3e16cd6"
  },
  "kernelspec": {
   "display_name": "Python 3.8.2 64-bit",
   "language": "python",
   "name": "python3"
  },
  "language_info": {
   "codemirror_mode": {
    "name": "ipython",
    "version": 3
   },
   "file_extension": ".py",
   "mimetype": "text/x-python",
   "name": "python",
   "nbconvert_exporter": "python",
   "pygments_lexer": "ipython3",
   "version": "3.8.2"
  },
  "orig_nbformat": 4
 },
 "nbformat": 4,
 "nbformat_minor": 2
}
