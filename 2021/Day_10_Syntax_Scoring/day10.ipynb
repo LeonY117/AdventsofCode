{
 "cells": [
  {
   "cell_type": "code",
   "execution_count": 57,
   "metadata": {},
   "outputs": [
    {
     "data": {
      "text/plain": [
       "318099"
      ]
     },
     "execution_count": 57,
     "metadata": {},
     "output_type": "execute_result"
    }
   ],
   "source": [
    "with open('input.txt') as f:\n",
    "    brackets = [l.split('\\n')[0] for l in f.readlines()]\n",
    "\n",
    "bracket_lookup = {\n",
    "    '(': ')',\n",
    "    '[': ']',\n",
    "    '{': '}',\n",
    "    '<': '>'\n",
    "}\n",
    "\n",
    "openBrackets = ['(', '[', '{', '<']\n",
    "closedBrackets = [')', ']', '}', '>']\n",
    "\n",
    "bracket_points_lookup = {\n",
    "    ')': 3,\n",
    "    ']': 57,\n",
    "    '}': 1197,\n",
    "    '>': 25137\n",
    "}\n",
    "\n",
    "\n",
    "def getIllegalCharacter(bracket):\n",
    "    stack = []\n",
    "    for b in bracket:\n",
    "        if (b in openBrackets):\n",
    "            stack.append(b)\n",
    "        elif (b in closedBrackets):\n",
    "            if (len(stack) == 0):\n",
    "                return b\n",
    "            if (stack[-1] in openBrackets and bracket_lookup[stack[-1]] == b):\n",
    "                stack.pop(-1)\n",
    "            else:\n",
    "                return b\n",
    "    return False\n",
    "\n",
    "legalBrackets = []\n",
    "points = 0\n",
    "for bracket in brackets:\n",
    "    c = getIllegalCharacter(bracket)\n",
    "    if (c):\n",
    "        points += bracket_points_lookup[c]\n",
    "    else:\n",
    "        legalBrackets.append(bracket)\n",
    "points\n"
   ]
  },
  {
   "cell_type": "code",
   "execution_count": 58,
   "metadata": {},
   "outputs": [
    {
     "data": {
      "text/plain": [
       "2389738699"
      ]
     },
     "execution_count": 58,
     "metadata": {},
     "output_type": "execute_result"
    }
   ],
   "source": [
    "# Part 2\n",
    "def getStack(brackets):\n",
    "    stack = []\n",
    "    for b in brackets:\n",
    "        if (b in openBrackets):\n",
    "            stack.append(b)\n",
    "        elif (b in closedBrackets):\n",
    "            if (len(stack) == 0):\n",
    "                return b\n",
    "            if (stack[-1] in openBrackets and bracket_lookup[stack[-1]] == b):\n",
    "                stack.pop(-1)\n",
    "            else:\n",
    "                return b\n",
    "    return stack\n",
    "\n",
    "\n",
    "points_lookup = {\n",
    "    '(': 1,\n",
    "    '[': 2,\n",
    "    '{': 3,\n",
    "    '<': 4\n",
    "}\n",
    "\n",
    "points_arr = []\n",
    "\n",
    "for bracket in legalBrackets:\n",
    "    bracketStack = getStack(bracket)[::-1]\n",
    "    points = 0\n",
    "    for b in bracketStack:\n",
    "        points *= 5\n",
    "        points += points_lookup[b]\n",
    "    points_arr.append(points)\n",
    "\n",
    "\n",
    "points_arr.sort()\n",
    "points_arr[len(points_arr)//2]\n"
   ]
  },
  {
   "cell_type": "code",
   "execution_count": null,
   "metadata": {},
   "outputs": [],
   "source": []
  }
 ],
 "metadata": {
  "interpreter": {
   "hash": "31f2aee4e71d21fbe5cf8b01ff0e069b9275f58929596ceb00d14d90e3e16cd6"
  },
  "kernelspec": {
   "display_name": "Python 3.8.2 64-bit",
   "language": "python",
   "name": "python3"
  },
  "language_info": {
   "codemirror_mode": {
    "name": "ipython",
    "version": 3
   },
   "file_extension": ".py",
   "mimetype": "text/x-python",
   "name": "python",
   "nbconvert_exporter": "python",
   "pygments_lexer": "ipython3",
   "version": "3.8.2"
  },
  "orig_nbformat": 4
 },
 "nbformat": 4,
 "nbformat_minor": 2
}
