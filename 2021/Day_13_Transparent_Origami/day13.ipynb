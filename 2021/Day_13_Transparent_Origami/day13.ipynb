{
 "cells": [
  {
   "cell_type": "code",
   "execution_count": 20,
   "metadata": {},
   "outputs": [
    {
     "name": "stdout",
     "output_type": "stream",
     "text": [
      "775\n",
      "643\n",
      "531\n",
      "439\n",
      "368\n",
      "306\n",
      "246\n",
      "208\n",
      "174\n",
      "150\n",
      "125\n",
      "102\n"
     ]
    }
   ],
   "source": [
    "with open('input.txt') as f:\n",
    "    points = [line.split('\\n')[0] for line in f.readlines()]\n",
    "    points = [(int(p.split(',')[0]), int(p.split(',')[1])) for p in points]\n",
    "\n",
    "with open('input_instructions.txt') as f:\n",
    "    instructions = [line.split('\\n')[0].split(\n",
    "        ' ')[-1].split('=') for line in f.readlines()]\n",
    "\n",
    "for step in instructions:\n",
    "    dir = step[0]\n",
    "    dir_value = int(step[1])\n",
    "    if (dir == 'x'):\n",
    "        for (i, p) in enumerate(points):\n",
    "            if p[0] < dir_value:\n",
    "                pass\n",
    "            else:\n",
    "                points[i] = (p[0] - 2 * (p[0] - dir_value), p[1])\n",
    "    if (dir == 'y'):\n",
    "        for (i, p) in enumerate(points):\n",
    "            if p[1] < dir_value:\n",
    "                pass\n",
    "            else:\n",
    "                points[i] = (p[0], p[1] - 2 * (p[1] - dir_value))\n",
    "\n",
    "    points = list(set(points))\n",
    "    print(len(points))\n"
   ]
  },
  {
   "cell_type": "code",
   "execution_count": 46,
   "metadata": {},
   "outputs": [
    {
     "data": {
      "text/plain": [
       "(-0.5, 38.5, 5.5, -0.5)"
      ]
     },
     "execution_count": 46,
     "metadata": {},
     "output_type": "execute_result"
    },
    {
     "data": {
      "image/png": "[encoded data removed]",
      "text/plain": [
       "<Figure size 432x288 with 1 Axes>"
      ]
     },
     "metadata": {
      "needs_background": "light"
     },
     "output_type": "display_data"
    }
   ],
   "source": [
    "# Part 2\n",
    "\n",
    "# covert to list\n",
    "import numpy as np\n",
    "import matplotlib.pyplot as plt\n",
    "\n",
    "points = np.array([[p[0], p[1]] for p in points])\n",
    "\n",
    "width = max([p[0] for p in points]) + 1\n",
    "height = max([p[1] for p in points]) + 1\n",
    "\n",
    "output_img = np.zeros((width, height))\n",
    "for p in points:\n",
    "    output_img[p[0]][p[1]] = 1\n",
    "\n",
    "plt.imshow(np.transpose(output_img), cmap='gist_gray')\n",
    "# plt.axis('off')"
   ]
  },
  {
   "cell_type": "code",
   "execution_count": 38,
   "metadata": {},
   "outputs": [
    {
     "data": {
      "text/plain": [
       "array([[23,  4],\n",
       "       [ 5,  1],\n",
       "       [ 8,  0],\n",
       "       [30,  0],\n",
       "       [17,  3],\n",
       "       [11,  5],\n",
       "       [ 0,  5],\n",
       "       [32,  3],\n",
       "       [15,  5],\n",
       "       [ 6,  2],\n",
       "       [18,  1],\n",
       "       [36,  0],\n",
       "       [ 5,  3],\n",
       "       [30,  2],\n",
       "       [ 2,  4],\n",
       "       [13,  1],\n",
       "       [35,  1],\n",
       "       [ 5,  5],\n",
       "       [30,  4],\n",
       "       [ 0,  0],\n",
       "       [35,  3],\n",
       "       [38,  2],\n",
       "       [15,  0],\n",
       "       [13,  3],\n",
       "       [26,  0],\n",
       "       [ 7,  5],\n",
       "       [22,  5],\n",
       "       [ 3,  1],\n",
       "       [17,  0],\n",
       "       [37,  3],\n",
       "       [ 0,  2],\n",
       "       [35,  5],\n",
       "       [15,  2],\n",
       "       [25,  4],\n",
       "       [ 1,  3],\n",
       "       [20,  1],\n",
       "       [ 5,  0],\n",
       "       [28,  2],\n",
       "       [15,  4],\n",
       "       [16,  3],\n",
       "       [ 7,  0],\n",
       "       [20,  3],\n",
       "       [ 3,  5],\n",
       "       [ 5,  2],\n",
       "       [32,  4],\n",
       "       [10,  1],\n",
       "       [35,  0],\n",
       "       [13,  0],\n",
       "       [18,  2],\n",
       "       [ 7,  2],\n",
       "       [23,  1],\n",
       "       [37,  0],\n",
       "       [ 5,  4],\n",
       "       [33,  5],\n",
       "       [35,  2],\n",
       "       [13,  2],\n",
       "       [25,  1],\n",
       "       [ 1,  0],\n",
       "       [10,  3],\n",
       "       [23,  3],\n",
       "       [27,  3],\n",
       "       [13,  4],\n",
       "       [35,  4],\n",
       "       [ 0,  4],\n",
       "       [16,  0],\n",
       "       [25,  3],\n",
       "       [20,  0],\n",
       "       [12,  5],\n",
       "       [37,  4],\n",
       "       [ 3,  2],\n",
       "       [32,  1],\n",
       "       [30,  1],\n",
       "       [33,  0],\n",
       "       [25,  5],\n",
       "       [ 2,  3],\n",
       "       [20,  2],\n",
       "       [31,  2],\n",
       "       [30,  3],\n",
       "       [10,  0],\n",
       "       [38,  1],\n",
       "       [ 6,  5],\n",
       "       [20,  4],\n",
       "       [23,  0],\n",
       "       [36,  3],\n",
       "       [27,  0],\n",
       "       [ 8,  5],\n",
       "       [10,  2],\n",
       "       [30,  5],\n",
       "       [ 0,  1],\n",
       "       [25,  0],\n",
       "       [15,  1],\n",
       "       [21,  5],\n",
       "       [23,  2],\n",
       "       [28,  1],\n",
       "       [10,  4],\n",
       "       [ 0,  3],\n",
       "       [25,  2],\n",
       "       [ 2,  0],\n",
       "       [26,  3],\n",
       "       [ 6,  0],\n",
       "       [15,  3],\n",
       "       [38,  5]])"
      ]
     },
     "execution_count": 38,
     "metadata": {},
     "output_type": "execute_result"
    }
   ],
   "source": [
    "points"
   ]
  },
  {
   "cell_type": "code",
   "execution_count": null,
   "metadata": {},
   "outputs": [],
   "source": []
  }
 ],
 "metadata": {
  "interpreter": {
   "hash": "31f2aee4e71d21fbe5cf8b01ff0e069b9275f58929596ceb00d14d90e3e16cd6"
  },
  "kernelspec": {
   "display_name": "Python 3.8.2 64-bit",
   "language": "python",
   "name": "python3"
  },
  "language_info": {
   "codemirror_mode": {
    "name": "ipython",
    "version": 3
   },
   "file_extension": ".py",
   "mimetype": "text/x-python",
   "name": "python",
   "nbconvert_exporter": "python",
   "pygments_lexer": "ipython3",
   "version": "3.8.2"
  },
  "orig_nbformat": 4
 },
 "nbformat": 4,
 "nbformat_minor": 2
}
