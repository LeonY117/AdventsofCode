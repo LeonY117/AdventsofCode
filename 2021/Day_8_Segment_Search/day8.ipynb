{
 "cells": [
  {
   "cell_type": "code",
   "execution_count": 44,
   "metadata": {},
   "outputs": [
    {
     "name": "stdout",
     "output_type": "stream",
     "text": [
      "369\n"
     ]
    }
   ],
   "source": [
    "# 1: 2 lines\n",
    "# 4: 4 lines\n",
    "# 7: 3 lines\n",
    "# 8: 7 lines\n",
    "\n",
    "# READ INPUT\n",
    "with open('input.txt') as f:\n",
    "    raw_file = [line.split('|') for line in f.readlines()]\n",
    "    arr = [[line[0].split(), line[1].split()] for line in raw_file]\n",
    "\n",
    "total = 0\n",
    "\n",
    "for item in arr:\n",
    "    for number in item[1]:\n",
    "        if len(number) == 4 or len(number) == 2 or len(number) == 3 or len(number) == 7:\n",
    "            total += 1\n",
    "\n",
    "print(total)"
   ]
  },
  {
   "cell_type": "code",
   "execution_count": 45,
   "metadata": {},
   "outputs": [
    {
     "data": {
      "text/plain": [
       "1031553"
      ]
     },
     "execution_count": 45,
     "metadata": {},
     "output_type": "execute_result"
    }
   ],
   "source": [
    "def getSegments(numbers):\n",
    "    segments = [] * 7\n",
    "    # top segment is from 7 - 1\n",
    "    six_segments = []\n",
    "    five_segments = []\n",
    "    for n in numbers:\n",
    "        if (len(n) == 3):\n",
    "            seven = n\n",
    "        if (len(n) == 2):\n",
    "            one = n\n",
    "        if (len(n) == 7):\n",
    "            eight = n\n",
    "        if (len(n) == 4):\n",
    "            four = n\n",
    "        if (len(n) == 6):\n",
    "            # 0, 6, 9\n",
    "            six_segments.append(n)\n",
    "        if (len(n) == 5):\n",
    "            # 2, 5, 3\n",
    "            five_segments.append(n)\n",
    "\n",
    "    for n in six_segments:\n",
    "        if (len(set(four).intersection(n)) == 4):\n",
    "            nine = n\n",
    "        elif (len(set(seven).intersection(n)) == 3):\n",
    "            zero = n\n",
    "        else:\n",
    "            six = n\n",
    "\n",
    "    for n in five_segments:\n",
    "        if (len(set(seven).intersection(n)) == 3):\n",
    "            three = n\n",
    "        elif (len(set(four).intersection(n)) == 3):\n",
    "            five = n\n",
    "        else:\n",
    "            two = n\n",
    "\n",
    "    return ([set(n) for n in [zero, one, two, three, four, five, six, seven, eight, nine]])\n",
    "\n",
    "    # segments[0] == list(set(seven) - set(one))[0]\n",
    "\n",
    "\n",
    "total = 0\n",
    "for pair in arr:\n",
    "    temp_num = ''\n",
    "    numbers = getSegments(pair[0])\n",
    "    for n in pair[1]:\n",
    "        for (i, nn) in enumerate(numbers):\n",
    "            if set(n) == set(nn):\n",
    "                temp_num += str(i)\n",
    "                break\n",
    "    total += int(temp_num)\n",
    "\n",
    "total"
   ]
  },
  {
   "cell_type": "code",
   "execution_count": 23,
   "metadata": {},
   "outputs": [
    {
     "data": {
      "text/plain": [
       "1"
      ]
     },
     "execution_count": 23,
     "metadata": {},
     "output_type": "execute_result"
    }
   ],
   "source": [
    "# list(set('f'))[0]\n",
    "len(set('f'))"
   ]
  },
  {
   "cell_type": "code",
   "execution_count": null,
   "metadata": {},
   "outputs": [],
   "source": []
  }
 ],
 "metadata": {
  "interpreter": {
   "hash": "31f2aee4e71d21fbe5cf8b01ff0e069b9275f58929596ceb00d14d90e3e16cd6"
  },
  "kernelspec": {
   "display_name": "Python 3.8.2 64-bit",
   "language": "python",
   "name": "python3"
  },
  "language_info": {
   "codemirror_mode": {
    "name": "ipython",
    "version": 3
   },
   "file_extension": ".py",
   "mimetype": "text/x-python",
   "name": "python",
   "nbconvert_exporter": "python",
   "pygments_lexer": "ipython3",
   "version": "3.8.2"
  },
  "orig_nbformat": 4
 },
 "nbformat": 4,
 "nbformat_minor": 2
}
