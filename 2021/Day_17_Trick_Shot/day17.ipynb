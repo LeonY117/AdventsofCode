{
 "cells": [
  {
   "cell_type": "code",
   "execution_count": 34,
   "metadata": {},
   "outputs": [
    {
     "name": "stdout",
     "output_type": "stream",
     "text": [
      "[(0, 6, 0), (1, 6, 1), (3, 6, 2), (6, 6, 3), (10, 6, 4), (15, 6, 5), (21, 6, 6), (28, 6, 7), (36, 6, 8), (45, 6, 9), (0, 7, 0), (1, 7, 1), (3, 7, 2), (6, 7, 3), (10, 7, 4), (15, 7, 5), (21, 7, 6), (28, 7, 7), (36, 7, 8), (45, 7, 9), (0, 8, 0), (1, 8, 1), (0, 9, 0)]\n",
      "(45, 7, 9)\n"
     ]
    }
   ],
   "source": [
    "# Actual\n",
    "\n",
    "# x1, x2 = 169, 206\n",
    "# y1, y2 = -108, -68\n",
    "\n",
    "x1, x2 = 20, 30\n",
    "y1, y2 = -10, -5\n",
    "\n",
    "\n",
    "\n",
    "max_ys = []\n",
    "for i in range(50):\n",
    "    for j in range(200):\n",
    "        y_history = []\n",
    "        x, y = 0, 0\n",
    "        v_x, v_y = i, j\n",
    "        while True:\n",
    "            x += v_x\n",
    "            y += v_y\n",
    "            v_x = max(v_x - 1, 0)\n",
    "            v_y -= 1\n",
    "            y_history.append(y)\n",
    "\n",
    "            if x1 <= x <= x2 and y1 <= y <= y2:\n",
    "                max_ys.append((max(y_history), i, j))\n",
    "                break\n",
    "\n",
    "            if y < y1 or x > x2:\n",
    "                break\n",
    "        # print(y_history)\n",
    "\n",
    "print(max_ys)\n",
    "print(max(max_ys))\n"
   ]
  },
  {
   "cell_type": "code",
   "execution_count": 39,
   "metadata": {},
   "outputs": [
    {
     "name": "stdout",
     "output_type": "stream",
     "text": [
      "2576\n"
     ]
    }
   ],
   "source": [
    "# Actual\n",
    "\n",
    "x1, x2 = 169, 206\n",
    "y1, y2 = -108, -68\n",
    "\n",
    "velocities = []\n",
    "for i in range(300):\n",
    "    for j in range(-200, 200):\n",
    "        y_history = []\n",
    "        x, y = 0, 0\n",
    "        v_x, v_y = i, j\n",
    "        while True:\n",
    "            x += v_x\n",
    "            y += v_y\n",
    "            v_x = max(v_x - 1, 0)\n",
    "            v_y -= 1\n",
    "            y_history.append(y)\n",
    "\n",
    "            if x1 <= x <= x2 and y1 <= y <= y2:\n",
    "                velocities.append((i, j))\n",
    "                break\n",
    "\n",
    "            if y < y1 or x > x2:\n",
    "                break\n",
    "        # print(y_history)\n",
    "\n",
    "# print(velocities)\n",
    "# print(set(velocities))\n",
    "print(len(set(velocities)))\n"
   ]
  },
  {
   "cell_type": "code",
   "execution_count": null,
   "metadata": {},
   "outputs": [],
   "source": []
  }
 ],
 "metadata": {
  "interpreter": {
   "hash": "bab2cfe8660232e2470daa12285dfb6af5c9f92a172586fbcf059f8d56eda216"
  },
  "kernelspec": {
   "display_name": "Python 3.8.0 64-bit ('3.8.0': pyenv)",
   "language": "python",
   "name": "python3"
  },
  "language_info": {
   "codemirror_mode": {
    "name": "ipython",
    "version": 3
   },
   "file_extension": ".py",
   "mimetype": "text/x-python",
   "name": "python",
   "nbconvert_exporter": "python",
   "pygments_lexer": "ipython3",
   "version": "3.8.0"
  },
  "orig_nbformat": 4
 },
 "nbformat": 4,
 "nbformat_minor": 2
}
