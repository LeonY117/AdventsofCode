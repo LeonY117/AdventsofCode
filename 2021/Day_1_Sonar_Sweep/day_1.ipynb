{
 "cells": [
  {
   "cell_type": "code",
   "execution_count": 10,
   "metadata": {},
   "outputs": [
    {
     "data": {
      "text/plain": [
       "1645"
      ]
     },
     "execution_count": 10,
     "metadata": {},
     "output_type": "execute_result"
    }
   ],
   "source": [
    "with open('input.txt') as f:\n",
    "    s = f.readlines()\n",
    "    for (i, n) in enumerate(s):\n",
    "        s[i] = int(n)\n",
    "\n",
    "total = 0\n",
    "for i in range(0, len(s)-1):\n",
    "    if (s[i+1] > s[i]):\n",
    "        total += 1\n",
    "\n",
    "# part 2\n",
    "sum = []\n",
    "\n",
    "for i in range(0, len(s)-2):\n",
    "    sum.append(s[i] + s[i+1] + s[i+2])\n",
    "\n",
    "total = 0\n",
    "for i in range(0, len(sum)-1):\n",
    "    if (sum[i+1] > sum[i]):\n",
    "        total += 1\n",
    "\n",
    "total"
   ]
  },
  {
   "cell_type": "code",
   "execution_count": null,
   "metadata": {},
   "outputs": [],
   "source": []
  }
 ],
 "metadata": {
  "interpreter": {
   "hash": "31f2aee4e71d21fbe5cf8b01ff0e069b9275f58929596ceb00d14d90e3e16cd6"
  },
  "kernelspec": {
   "display_name": "Python 3.8.2 64-bit",
   "language": "python",
   "name": "python3"
  },
  "language_info": {
   "codemirror_mode": {
    "name": "ipython",
    "version": 3
   },
   "file_extension": ".py",
   "mimetype": "text/x-python",
   "name": "python",
   "nbconvert_exporter": "python",
   "pygments_lexer": "ipython3",
   "version": "3.8.2"
  },
  "orig_nbformat": 4
 },
 "nbformat": 4,
 "nbformat_minor": 2
}
