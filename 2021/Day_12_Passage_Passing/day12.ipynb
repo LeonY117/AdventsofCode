{
 "cells": [
  {
   "cell_type": "code",
   "execution_count": 95,
   "metadata": {},
   "outputs": [
    {
     "name": "stdout",
     "output_type": "stream",
     "text": [
      "4754\n"
     ]
    }
   ],
   "source": [
    "with open('input.txt') as f:\n",
    "    lines = [line.split('\\n')[0] for line in f.readlines()]\n",
    "    connections = [line.split('-') for line in lines]\n",
    "\n",
    "# Get unique cities\n",
    "uniqueCities = []\n",
    "for c in connections:\n",
    "    uniqueCities += c[0], c[1]\n",
    "\n",
    "uniqueCities = list(set(uniqueCities))\n",
    "\n",
    "# Form graph\n",
    "cityMap = {}\n",
    "for city in uniqueCities:\n",
    "    cityMap[city] = []\n",
    "\n",
    "for (city1, city2) in connections:\n",
    "    cityMap[city1].append(city2)\n",
    "    cityMap[city2].append(city1)\n",
    "\n",
    "for city in cityMap:\n",
    "    cityMap[city].sort()\n",
    "\n",
    "\n",
    "def moveCity(city, path, allPaths):\n",
    "    # if len(path) > 0:\n",
    "    #     prevCity = path[-1]\n",
    "    # else:\n",
    "    #     prevCity = None\n",
    "\n",
    "\n",
    "    if city == 'end':\n",
    "        allPaths.append(path)\n",
    "        return allPaths\n",
    "    if city.islower() and path.count(city) > 1:\n",
    "        return allPaths\n",
    "    if cityMap[city] == []:\n",
    "        return allPaths\n",
    "    for nextCity in cityMap[city]:\n",
    "        allPaths = moveCity(\n",
    "            nextCity, path + [nextCity], allPaths)\n",
    "    return allPaths\n",
    "\n",
    "\n",
    "paths = moveCity('start', ['start'], [])\n",
    "\n",
    "# print(paths)\n",
    "print(len(paths))\n"
   ]
  },
  {
   "cell_type": "code",
   "execution_count": 96,
   "metadata": {},
   "outputs": [
    {
     "name": "stdout",
     "output_type": "stream",
     "text": [
      "143562\n"
     ]
    }
   ],
   "source": [
    "def isPossibleVisit(city, path):\n",
    "\n",
    "    if city == 'start' or city == 'end':\n",
    "        if path.count(city) == 1:\n",
    "            return False\n",
    "        else:\n",
    "            return True\n",
    "\n",
    "    elif city.islower():\n",
    "        if path.count(city) < 1:\n",
    "            return True\n",
    "        elif path.count(city) == 2:\n",
    "            return False\n",
    "        elif path.count(city) == 1:\n",
    "            # check if a small cave has been visited twice\n",
    "            tempDict = {}\n",
    "            for c in path:\n",
    "                if c.islower():\n",
    "                    if c not in tempDict:\n",
    "                        tempDict[c] = 1\n",
    "                    else:\n",
    "                        tempDict[c] += 1\n",
    "                    if tempDict[c] == 2:\n",
    "                        # print(f'{c} is visited twice, cannnot visit {city}')\n",
    "                        # print(path)\n",
    "                        return False\n",
    "                else:\n",
    "                    pass\n",
    "            return True\n",
    "    else:\n",
    "        return True\n",
    "\n",
    "\n",
    "def moveCity2(city, path, allPaths):\n",
    "    if city == 'end':\n",
    "        allPaths.append(path)\n",
    "        return allPaths\n",
    "    if cityMap[city] == []:\n",
    "        return allPaths\n",
    "    for nextCity in cityMap[city]:\n",
    "        if isPossibleVisit(nextCity, path):\n",
    "            # print(f'CurrentPath: {path}, {nextCity} is valid')\n",
    "            allPaths = moveCity2(\n",
    "                nextCity, path + [nextCity], allPaths)\n",
    "        else:\n",
    "            # print(f'CurrentPath: {path}, {nextCity} is NOT valid')\n",
    "            pass\n",
    "    return allPaths\n",
    "\n",
    "\n",
    "paths = moveCity2('start', ['start'], [])\n",
    "\n",
    "# print(paths)\n",
    "print(len(paths))\n"
   ]
  },
  {
   "cell_type": "code",
   "execution_count": null,
   "metadata": {},
   "outputs": [],
   "source": []
  }
 ],
 "metadata": {
  "interpreter": {
   "hash": "31f2aee4e71d21fbe5cf8b01ff0e069b9275f58929596ceb00d14d90e3e16cd6"
  },
  "kernelspec": {
   "display_name": "Python 3.8.2 64-bit",
   "language": "python",
   "name": "python3"
  },
  "language_info": {
   "codemirror_mode": {
    "name": "ipython",
    "version": 3
   },
   "file_extension": ".py",
   "mimetype": "text/x-python",
   "name": "python",
   "nbconvert_exporter": "python",
   "pygments_lexer": "ipython3",
   "version": "3.8.2"
  },
  "orig_nbformat": 4
 },
 "nbformat": 4,
 "nbformat_minor": 2
}
