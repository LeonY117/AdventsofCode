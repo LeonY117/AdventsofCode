{
 "cells": [
  {
   "cell_type": "code",
   "execution_count": 86,
   "metadata": {},
   "outputs": [
    {
     "name": "stdout",
     "output_type": "stream",
     "text": [
      "3443\n",
      "1357\n",
      "4672151\n"
     ]
    }
   ],
   "source": [
    "import numpy as np\n",
    "\n",
    "with open('input.txt') as f:\n",
    "    nums = f.readlines()\n",
    "    nums = [[int(c) for c in n.split('\\n')[0]] for n in nums]\n",
    "\n",
    "threshold = len(nums)/2\n",
    "\n",
    "nums_np = np.array(nums)\n",
    "sum = np.sum(nums_np, axis=0)\n",
    "\n",
    "sum_binary = []\n",
    "for n in sum:\n",
    "    if n >= threshold:\n",
    "        sum_binary.append(1)\n",
    "    else:\n",
    "        sum_binary.append(0)\n",
    "\n",
    "sum_binary_reverse = [(n-1) * -1 for n in sum_binary]\n",
    "\n",
    "gamma = int(('').join([str(n) for n in sum_binary]), 2)\n",
    "epsilon = int(('').join([str(n) for n in sum_binary_reverse]), 2)\n",
    "\n",
    "# print((gamma, epsilon))\n",
    "# print(gamma * epsilon)\n",
    "\n",
    "# part 2\n",
    "nums2 = nums.copy()\n",
    "for i in range(len(nums[0])):\n",
    "    # find threshold\n",
    "    threshold = len(nums)/2\n",
    "\n",
    "    # find target\n",
    "    sum = np.sum(nums, axis=0)[i]\n",
    "\n",
    "    if sum >= threshold:\n",
    "        target = 1\n",
    "    else: \n",
    "        target = 0\n",
    "\n",
    "    numsCopy = []\n",
    "    for n in nums:\n",
    "        if len(nums) == 1:\n",
    "            break\n",
    "        if n[i] == target:\n",
    "            numsCopy.append(n)\n",
    "    nums = numsCopy\n",
    "    if len(numsCopy) == 1:\n",
    "        break\n",
    "\n",
    "co2 = int(('').join([str(n) for n in numsCopy[0]]), 2)\n",
    "\n",
    "nums = nums2.copy()\n",
    "for i in range(len(nums[0])):\n",
    "    # find threshold\n",
    "    threshold = len(nums)/2\n",
    "\n",
    "    # find target\n",
    "    sum = np.sum(nums, axis=0)[i]\n",
    "\n",
    "    if sum >= threshold:\n",
    "        target = 0\n",
    "    else: \n",
    "        target = 1\n",
    "\n",
    "    numsCopy = []\n",
    "    for n in nums:\n",
    "        if len(nums) == 1:\n",
    "            break\n",
    "        if n[i] == target:\n",
    "            numsCopy.append(n)\n",
    "    nums = numsCopy\n",
    "    if len(numsCopy) == 1:\n",
    "        break\n",
    "\n",
    "\n",
    "o2 = int(('').join([str(n) for n in numsCopy[0]]), 2)\n",
    "\n",
    "print(co2)\n",
    "print(o2)\n",
    "print(co2*o2)\n"
   ]
  },
  {
   "cell_type": "code",
   "execution_count": 67,
   "metadata": {},
   "outputs": [
    {
     "data": {
      "text/plain": [
       "[1, 0, 1, 1, 0]"
      ]
     },
     "execution_count": 67,
     "metadata": {},
     "output_type": "execute_result"
    }
   ],
   "source": [
    "sum_binary"
   ]
  },
  {
   "cell_type": "code",
   "execution_count": null,
   "metadata": {},
   "outputs": [],
   "source": []
  }
 ],
 "metadata": {
  "interpreter": {
   "hash": "31f2aee4e71d21fbe5cf8b01ff0e069b9275f58929596ceb00d14d90e3e16cd6"
  },
  "kernelspec": {
   "display_name": "Python 3.8.2 64-bit",
   "language": "python",
   "name": "python3"
  },
  "language_info": {
   "codemirror_mode": {
    "name": "ipython",
    "version": 3
   },
   "file_extension": ".py",
   "mimetype": "text/x-python",
   "name": "python",
   "nbconvert_exporter": "python",
   "pygments_lexer": "ipython3",
   "version": "3.8.2"
  },
  "orig_nbformat": 4
 },
 "nbformat": 4,
 "nbformat_minor": 2
}
