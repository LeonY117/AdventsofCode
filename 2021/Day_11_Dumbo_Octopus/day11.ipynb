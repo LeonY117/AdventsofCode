{
 "cells": [
  {
   "cell_type": "code",
   "execution_count": 56,
   "metadata": {},
   "outputs": [
    {
     "name": "stdout",
     "output_type": "stream",
     "text": [
      "(10, 10)\n",
      "1702\n"
     ]
    }
   ],
   "source": [
    "import numpy as np\n",
    "\n",
    "with open('input.txt') as f:\n",
    "    grid = np.array([[int(n) for n in row.split('\\n')[0]]\n",
    "                    for row in f.readlines()])\n",
    "\n",
    "width, height = grid.shape\n",
    "print((width, height))  # 10 by 10\n",
    "\n",
    "# -1 : about to glow\n",
    "# 0  : already glowed\n",
    "\n",
    "\n",
    "def glow(i, j):\n",
    "    for ii in range(i-1, i+2):\n",
    "        for jj in range(j-1, j+2):\n",
    "            if ii >= 0 and ii < height and jj >= 0 and jj < width:\n",
    "                if not (ii == i and jj == j):\n",
    "                    if (grid[ii][jj] == 9 or grid[ii][jj] == -1):\n",
    "                        grid[ii][jj] = -1\n",
    "                    elif (grid[ii][jj] == 0):\n",
    "                        grid[ii][jj] = 0\n",
    "                    else:\n",
    "                        grid[ii][jj] += 1\n",
    "    grid[i][j] = 0\n",
    "\n",
    "\n",
    "def getGlowList(grid):\n",
    "    glowList = []\n",
    "    for (i, row) in enumerate(grid):\n",
    "        for (j, n) in enumerate(row):\n",
    "            if (grid[i][j] == -1):\n",
    "                glowList.append((i, j))\n",
    "    return glowList\n",
    "\n",
    "total_grow = 0\n",
    "for _ in range(100):\n",
    "    # grow\n",
    "    for (i, row) in enumerate(grid):\n",
    "        for (j, n) in enumerate(row):\n",
    "            if (n == 9):\n",
    "                grid[i][j] = -1\n",
    "            else:\n",
    "                grid[i][j] += 1\n",
    "\n",
    "    glowList = getGlowList(grid)\n",
    "    # glow\n",
    "    grid_prev = np.zeros(grid.shape)\n",
    "\n",
    "    while len(glowList) > 0:\n",
    "        grid_prev = grid.copy()\n",
    "        for (i, j) in glowList:\n",
    "            glow(i, j)\n",
    "        glowList = getGlowList(grid)\n",
    "\n",
    "    total_grow += np.count_nonzero(grid==0)\n",
    "    # print(grid)\n",
    "    \n",
    "print(total_grow)"
   ]
  },
  {
   "cell_type": "code",
   "execution_count": 57,
   "metadata": {},
   "outputs": [
    {
     "name": "stdout",
     "output_type": "stream",
     "text": [
      "250\n"
     ]
    }
   ],
   "source": [
    "with open('input.txt') as f:\n",
    "    grid = np.array([[int(n) for n in row.split('\\n')[0]]\n",
    "                    for row in f.readlines()])\n",
    "\n",
    "\n",
    "for count in range(1000):\n",
    "    # grow\n",
    "    for (i, row) in enumerate(grid):\n",
    "        for (j, n) in enumerate(row):\n",
    "            if (n == 9):\n",
    "                grid[i][j] = -1\n",
    "            else:\n",
    "                grid[i][j] += 1\n",
    "\n",
    "    glowList = getGlowList(grid)\n",
    "    # glow\n",
    "    grid_prev = np.zeros(grid.shape)\n",
    "\n",
    "    while len(glowList) > 0:\n",
    "        grid_prev = grid.copy()\n",
    "        for (i, j) in glowList:\n",
    "            glow(i, j)\n",
    "        glowList = getGlowList(grid)\n",
    "\n",
    "    if np.count_nonzero(grid==0) == 100:\n",
    "        print(count + 1)\n",
    "        break\n",
    "    # print(grid)\n",
    "    \n"
   ]
  },
  {
   "cell_type": "code",
   "execution_count": null,
   "metadata": {},
   "outputs": [],
   "source": []
  }
 ],
 "metadata": {
  "interpreter": {
   "hash": "31f2aee4e71d21fbe5cf8b01ff0e069b9275f58929596ceb00d14d90e3e16cd6"
  },
  "kernelspec": {
   "display_name": "Python 3.8.2 64-bit",
   "language": "python",
   "name": "python3"
  },
  "language_info": {
   "codemirror_mode": {
    "name": "ipython",
    "version": 3
   },
   "file_extension": ".py",
   "mimetype": "text/x-python",
   "name": "python",
   "nbconvert_exporter": "python",
   "pygments_lexer": "ipython3",
   "version": "3.8.2"
  },
  "orig_nbformat": 4
 },
 "nbformat": 4,
 "nbformat_minor": 2
}
