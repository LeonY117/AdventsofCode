{
 "cells": [
  {
   "cell_type": "code",
   "execution_count": 24,
   "metadata": {},
   "outputs": [
    {
     "name": "stdout",
     "output_type": "stream",
     "text": [
      "21\n"
     ]
    }
   ],
   "source": [
    "import numpy as np\n",
    "\n",
    "with open('test_input.txt', 'r') as f:\n",
    "    lines = f.readlines()\n",
    "\n",
    "lines = [[int(c) for c in line.strip()] for line in lines] # gets rid of \\n\n",
    "trees = np.array(lines)\n",
    "not_seen = np.ones_like(trees)\n",
    "\n",
    "# if I want vanilla rotation:\n",
    "def rotate(A):\n",
    "    A[:] = map(list, zip(*A[::-1]))\n",
    "\n",
    "sum = 0\n",
    "\n",
    "for _ in range(4):\n",
    "    curr_max_height = np.zeros(trees.shape[0]) - 1\n",
    "    for (i, tree_row) in enumerate(trees):\n",
    "        diff = tree_row - curr_max_height\n",
    "        filter = np.where(diff > 0, 1, 0) \n",
    "        curr_max_height += filter * diff\n",
    "        \n",
    "        filter *= not_seen[i]\n",
    "        sum += np.sum(filter)\n",
    "        not_seen[i] *= (1 - filter)\n",
    "    \n",
    "    trees = np.rot90(trees)\n",
    "    not_seen = np.rot90(not_seen)\n",
    "\n",
    "print(sum)\n",
    "# assert(sum == 1845)\n"
   ]
  },
  {
   "cell_type": "code",
   "execution_count": 125,
   "metadata": {},
   "outputs": [
    {
     "name": "stdout",
     "output_type": "stream",
     "text": [
      "[[ 0  0  0 ...  0  0  0]\n",
      " [ 0  1  2 ...  4  1  0]\n",
      " [ 0  1  4 ...  1 30  0]\n",
      " ...\n",
      " [ 0  1  6 ...  1 20  0]\n",
      " [ 0  3  1 ...  1  2  0]\n",
      " [ 0  0  0 ...  0  0  0]]\n",
      "230112\n"
     ]
    }
   ],
   "source": [
    "#     [a b c d e]\n",
    "# - [a b c d e]\n",
    "# this was a terrible approach and I regret it\n",
    "\n",
    "with open('input.txt', 'r') as f:\n",
    "    lines = f.readlines()\n",
    "\n",
    "lines = [[int(c) for c in line.strip()] for line in lines] # gets rid of \\n\n",
    "trees = np.array(lines)\n",
    "\n",
    "total_scores = np.ones_like(trees)\n",
    "for _ in range(4):\n",
    "    scores = np.zeros_like(trees)\n",
    "    not_blocked = np.ones_like(trees)\n",
    "    for (i, tree_row) in enumerate(trees):\n",
    "        for j in range(len(tree_row)):\n",
    "            next = np.ones_like(tree_row) * 100\n",
    "            next[:-(j+1)] = tree_row[j+1:]\n",
    "            diff = next - tree_row\n",
    "            next_is_shorter = diff < 0\n",
    "            # indexing because we don't want to update the edges\n",
    "            scores[i][:-j-1] += not_blocked[i][:-j-1]\n",
    "            not_blocked[i] *= next_is_shorter\n",
    "        scores[i][0] = 0\n",
    "    total_scores *= scores\n",
    "    total_scores = np.rot90(total_scores)\n",
    "    trees = np.rot90(trees)\n",
    "ans = max(total_scores.flatten())\n",
    "\n",
    "print(total_scores)\n",
    "print(ans)\n",
    "\n",
    "assert(ans == 230112)"
   ]
  },
  {
   "cell_type": "code",
   "execution_count": null,
   "metadata": {},
   "outputs": [],
   "source": []
  }
 ],
 "metadata": {
  "kernelspec": {
   "display_name": "Python 3.9.7 ('base')",
   "language": "python",
   "name": "python3"
  },
  "language_info": {
   "codemirror_mode": {
    "name": "ipython",
    "version": 3
   },
   "file_extension": ".py",
   "mimetype": "text/x-python",
   "name": "python",
   "nbconvert_exporter": "python",
   "pygments_lexer": "ipython3",
   "version": "3.9.7"
  },
  "orig_nbformat": 4,
  "vscode": {
   "interpreter": {
    "hash": "962cc4cc4cbfc7601b945c9aaae47e2c73c008fbb378fc409194f8d345541673"
   }
  }
 },
 "nbformat": 4,
 "nbformat_minor": 2
}
