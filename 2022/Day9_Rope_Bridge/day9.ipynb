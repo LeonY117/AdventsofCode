{
 "cells": [
  {
   "cell_type": "code",
   "execution_count": 89,
   "metadata": {},
   "outputs": [
    {
     "name": "stdout",
     "output_type": "stream",
     "text": [
      "6384\n"
     ]
    }
   ],
   "source": [
    "with open('input.txt', 'r') as f:\n",
    "    lines = f.readlines()\n",
    "\n",
    "lines = [line.strip().split(' ') for line in lines] # gets rid of \\n\n",
    "\n",
    "instructions = [(a[0], int(a[1])) for a in lines]\n",
    "\n",
    "dir_map = {\n",
    "    'R': [1, 0],\n",
    "    'L': [-1, 0],\n",
    "    'U': [0, 1],\n",
    "    'D': [0, -1]\n",
    "}\n",
    "\n",
    "def move_next_tail(H, T):\n",
    "    x_dir, y_dir = 0, 0\n",
    "    if H[0] == T[0] or H[1] == T[1]:\n",
    "        # check distance\n",
    "        if abs(H[0] - T[0]) > 1:\n",
    "            x_dir = H[0] - T[0]\n",
    "        if abs(H[1] - T[1]) > 1:\n",
    "            y_dir = H[1] - T[1]\n",
    "    else:\n",
    "        if abs(H[0] - T[0]) > 1 or abs(H[1] - T[1]) > 1:\n",
    "            # move diagonally\n",
    "            x_dir = H[0] - T[0]\n",
    "            y_dir = H[1] - T[1]\n",
    "    \n",
    "    # max step size is +- 1\n",
    "    if x_dir:\n",
    "        T[0] += int(x_dir / abs(x_dir))\n",
    "    if y_dir:\n",
    "        T[1] += int(y_dir / abs(y_dir))\n",
    "\n",
    "visited = []\n",
    "H = [0, 0]\n",
    "T = [0, 0]\n",
    "\n",
    "for instruction in instructions:\n",
    "    dir, step_size = instruction[0], instruction[1]\n",
    "    for _ in range(step_size):\n",
    "        H[0] += dir_map[dir][0]\n",
    "        H[1] += dir_map[dir][1]\n",
    "        x_dir, y_dir = 0, 0\n",
    "        move_next_tail(H, T)\n",
    "        visited.append(f\"{T[0]},{T[1]}\")\n",
    "\n",
    "ans = len(set(visited))\n",
    "print(ans)\n",
    "\n",
    "assert(ans == 6384)\n",
    "\n"
   ]
  },
  {
   "cell_type": "code",
   "execution_count": 90,
   "metadata": {},
   "outputs": [
    {
     "name": "stdout",
     "output_type": "stream",
     "text": [
      "2734\n"
     ]
    }
   ],
   "source": [
    "visited = []\n",
    "H = [0, 0]\n",
    "# T = [0, 0]\n",
    "tails = [[0, 0] for _ in range(9)]\n",
    "\n",
    "for instruction in instructions:\n",
    "    dir, step_size = instruction[0], instruction[1]\n",
    "    for _ in range(step_size):\n",
    "        H[0] += dir_map[dir][0]\n",
    "        H[1] += dir_map[dir][1]\n",
    "        move_next_tail(H, tails[0])\n",
    "        for i in range(len(tails)-1):\n",
    "            move_next_tail(tails[i], tails[i+1])\n",
    "        visited.append(f\"{tails[-1][0]},{tails[-1][1]}\")\n",
    "\n",
    "print(len(set(visited)))"
   ]
  },
  {
   "cell_type": "code",
   "execution_count": null,
   "metadata": {},
   "outputs": [],
   "source": []
  }
 ],
 "metadata": {
  "kernelspec": {
   "display_name": "Python 3.8.2 64-bit",
   "language": "python",
   "name": "python3"
  },
  "language_info": {
   "codemirror_mode": {
    "name": "ipython",
    "version": 3
   },
   "file_extension": ".py",
   "mimetype": "text/x-python",
   "name": "python",
   "nbconvert_exporter": "python",
   "pygments_lexer": "ipython3",
   "version": "3.8.2"
  },
  "orig_nbformat": 4,
  "vscode": {
   "interpreter": {
    "hash": "31f2aee4e71d21fbe5cf8b01ff0e069b9275f58929596ceb00d14d90e3e16cd6"
   }
  }
 },
 "nbformat": 4,
 "nbformat_minor": 2
}
