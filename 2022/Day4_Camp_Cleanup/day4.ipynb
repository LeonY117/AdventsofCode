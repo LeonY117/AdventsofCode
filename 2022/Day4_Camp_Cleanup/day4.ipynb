{
 "cells": [
  {
   "cell_type": "code",
   "execution_count": 2,
   "metadata": {},
   "outputs": [],
   "source": [
    "assignments = []\n",
    "\n",
    "with open('input.txt', 'r') as f:\n",
    "    lines = f.readlines()\n",
    "\n",
    "    for line in lines:\n",
    "        pairs = line.split('\\n')[0].split(',')\n",
    "        assignment1 = [int(n) for n in pairs[0].split('-')]\n",
    "        assignment2 = [int(n) for n in pairs[1].split('-')]\n",
    "\n",
    "        assignments.append([assignment1, assignment2])"
   ]
  },
  {
   "cell_type": "code",
   "execution_count": 3,
   "metadata": {},
   "outputs": [
    {
     "name": "stdout",
     "output_type": "stream",
     "text": [
      "657\n"
     ]
    }
   ],
   "source": [
    "count = 0\n",
    "\n",
    "# inclusive if:\n",
    "# either the of the start/end are equal for both pairs (diff is 0) \n",
    "# or sign(difference in start) != sign(difference in end)\n",
    "\n",
    "for pairs in assignments:\n",
    "    a1, a2 = pairs[0], pairs[1]\n",
    "\n",
    "    # some funky stuff here\n",
    "    if (a1[0] - a2[0]) * (a1[1] - a2[1]) <=0:\n",
    "        count += 1\n",
    "   \n",
    "print(count)"
   ]
  },
  {
   "cell_type": "code",
   "execution_count": 5,
   "metadata": {},
   "outputs": [
    {
     "name": "stdout",
     "output_type": "stream",
     "text": [
      "62\n",
      "938\n"
     ]
    }
   ],
   "source": [
    "no_overlap_count = 0\n",
    "\n",
    "# exclusive if:\n",
    "# sign(a1[0]-a2[0]) == sign(a1[0]-a2[1]) == \n",
    "# sign(a1[1]-a2[0]) == sign(a1[1]-a2[1])\n",
    "# i.e. one pair is always larger than or / smaller than the other\n",
    "\n",
    "# but we can drop one of these conditions because sign(a1[0]-a2[0]) == sign(a1[0]-a2[1]) is always true if exclusive\n",
    "\n",
    "for pairs in assignments:\n",
    "    a1, a2 = pairs[0], pairs[1]\n",
    "\n",
    "    # some funky stuff here\n",
    "    if a1[0] > a2[1] or a1[1] < a2[0]:\n",
    "        no_overlap_count += 1\n",
    "\n",
    "print(no_overlap_count)\n",
    "print(len(assignments) - no_overlap_count)"
   ]
  },
  {
   "cell_type": "code",
   "execution_count": null,
   "metadata": {},
   "outputs": [],
   "source": []
  }
 ],
 "metadata": {
  "kernelspec": {
   "display_name": "Python 3.8.2 64-bit",
   "language": "python",
   "name": "python3"
  },
  "language_info": {
   "codemirror_mode": {
    "name": "ipython",
    "version": 3
   },
   "file_extension": ".py",
   "mimetype": "text/x-python",
   "name": "python",
   "nbconvert_exporter": "python",
   "pygments_lexer": "ipython3",
   "version": "3.8.2"
  },
  "orig_nbformat": 4,
  "vscode": {
   "interpreter": {
    "hash": "31f2aee4e71d21fbe5cf8b01ff0e069b9275f58929596ceb00d14d90e3e16cd6"
   }
  }
 },
 "nbformat": 4,
 "nbformat_minor": 2
}
