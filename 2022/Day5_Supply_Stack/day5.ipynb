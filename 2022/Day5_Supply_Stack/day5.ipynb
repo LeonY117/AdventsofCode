{
 "cells": [
  {
   "cell_type": "code",
   "execution_count": 92,
   "metadata": {},
   "outputs": [],
   "source": [
    "with open('crates.txt', 'r', encoding='UTF-8') as file:\n",
    "    data = file.read()\n",
    "\n",
    "stacks_data = data.split('\\n')[:-1]\n",
    "\n",
    "def get_stacks(stacks_data):\n",
    "    num_stacks = 9\n",
    "    stacks = [[] for _ in range(num_stacks)]\n",
    "    for row in stacks_data[::-1]:\n",
    "        for i in range(0, num_stacks):\n",
    "            j = (i) * 4 + 1\n",
    "            char = row[j]\n",
    "            if char != ' ':\n",
    "                stacks[i].append(char)\n",
    "    \n",
    "    return stacks\n",
    "\n",
    "stacks = get_stacks(stacks_data)"
   ]
  },
  {
   "cell_type": "code",
   "execution_count": 93,
   "metadata": {},
   "outputs": [],
   "source": [
    "import re\n",
    "\n",
    "with open('instructions.txt', 'r', encoding='UTF-8') as file:\n",
    "    data = file.read()\n",
    "\n",
    "rows = [row.strip() for row in data.split('\\n')]\n",
    "\n",
    "instructions = []\n",
    "for row in rows:\n",
    "    instructions.append([int(s) for s in re.findall(r'-?\\d+\\d*', row)])\n"
   ]
  },
  {
   "cell_type": "code",
   "execution_count": 94,
   "metadata": {},
   "outputs": [],
   "source": [
    "stacks = get_stacks(stacks_data)\n",
    "\n",
    "for instruction in instructions:\n",
    "    num_to_move = instruction[0]\n",
    "    move_from = instruction[1] - 1\n",
    "    move_to = instruction[2] - 1\n",
    "\n",
    "    for _ in range(num_to_move):\n",
    "        item = stacks[move_from].pop()\n",
    "        stacks[move_to].append(item)"
   ]
  },
  {
   "cell_type": "code",
   "execution_count": 95,
   "metadata": {},
   "outputs": [
    {
     "name": "stdout",
     "output_type": "stream",
     "text": [
      "WSFTMRHPP\n"
     ]
    }
   ],
   "source": [
    "ans1 = ''.join([s[-1] if s else '' for s in stacks])\n",
    "print(ans1)"
   ]
  },
  {
   "cell_type": "code",
   "execution_count": 98,
   "metadata": {},
   "outputs": [],
   "source": [
    "stacks_2 = get_stacks(stacks_data)\n",
    "\n",
    "for instruction in instructions:\n",
    "    num_to_move = instruction[0]\n",
    "    move_from = instruction[1] - 1\n",
    "    move_to = instruction[2] - 1\n",
    "    \n",
    "    items_to_move = stacks_2[move_from][-num_to_move:]\n",
    "    stacks_2[move_from] = stacks_2[move_from][:-num_to_move]\n",
    "    stacks_2[move_to] += items_to_move"
   ]
  },
  {
   "cell_type": "code",
   "execution_count": 99,
   "metadata": {},
   "outputs": [
    {
     "name": "stdout",
     "output_type": "stream",
     "text": [
      "GSLCMFBRP\n"
     ]
    }
   ],
   "source": [
    "ans2 = ''.join([s[-1] if s else '' for s in stacks_2])\n",
    "print(ans2)"
   ]
  }
 ],
 "metadata": {
  "kernelspec": {
   "display_name": "Python 3.9.7 ('base')",
   "language": "python",
   "name": "python3"
  },
  "language_info": {
   "codemirror_mode": {
    "name": "ipython",
    "version": 3
   },
   "file_extension": ".py",
   "mimetype": "text/x-python",
   "name": "python",
   "nbconvert_exporter": "python",
   "pygments_lexer": "ipython3",
   "version": "3.9.7"
  },
  "orig_nbformat": 4,
  "vscode": {
   "interpreter": {
    "hash": "962cc4cc4cbfc7601b945c9aaae47e2c73c008fbb378fc409194f8d345541673"
   }
  }
 },
 "nbformat": 4,
 "nbformat_minor": 2
}
