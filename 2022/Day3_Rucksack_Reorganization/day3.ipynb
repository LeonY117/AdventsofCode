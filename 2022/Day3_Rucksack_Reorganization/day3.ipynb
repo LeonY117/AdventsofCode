{
 "cells": [
  {
   "cell_type": "code",
   "execution_count": 78,
   "metadata": {},
   "outputs": [],
   "source": [
    "with open ('input.txt', 'r') as f:\n",
    "    lines = f.readlines()\n",
    "    rucksacks = [line.split('\\n')[0] for line in lines]"
   ]
  },
  {
   "cell_type": "code",
   "execution_count": 79,
   "metadata": {},
   "outputs": [],
   "source": [
    "# ord() gives the ASCII codes\n",
    "\n",
    "# ord(A) - ord(Z): 65 - 90\n",
    "# ord(a) - ord(z): 97 - 122\n",
    "\n",
    "letter_score = {}\n",
    "\n",
    "for i in range(65, 91):\n",
    "    letter_score[chr(i)] = i - 65 + 27\n",
    "\n",
    "for i in range(97, 123):\n",
    "    letter_score[chr(i)] = i - 97 + 1"
   ]
  },
  {
   "cell_type": "code",
   "execution_count": 80,
   "metadata": {},
   "outputs": [
    {
     "data": {
      "text/plain": [
       "7763"
      ]
     },
     "execution_count": 80,
     "metadata": {},
     "output_type": "execute_result"
    }
   ],
   "source": [
    "total_scores = 0\n",
    "\n",
    "for rucksack in rucksacks:\n",
    "    compartment_size = int((len(rucksack))/2)\n",
    "    left_bag = rucksack[:compartment_size]\n",
    "    right_bag = rucksack[compartment_size:]\n",
    "\n",
    "    left_items = set(left_bag)\n",
    "    right_items = set(right_bag)\n",
    "    \n",
    "    common_items = left_items.intersection(right_items)\n",
    "\n",
    "    total_scores += sum([letter_score[letter] for letter in common_items])\n",
    "\n",
    "total_scores"
   ]
  },
  {
   "cell_type": "code",
   "execution_count": 81,
   "metadata": {},
   "outputs": [
    {
     "name": "stdout",
     "output_type": "stream",
     "text": [
      "2569\n"
     ]
    }
   ],
   "source": [
    "elf_groups = []\n",
    "\n",
    "with open ('input.txt', 'r') as f:\n",
    "    group = []\n",
    "    count = 0\n",
    "    lines = f.readlines()\n",
    "    for line in lines:\n",
    "        line = line.split('\\n')[0]\n",
    "        group.append(line)\n",
    "        count += 1\n",
    "        if count == 3:\n",
    "            elf_groups.append(group)\n",
    "            count = 0 \n",
    "            group = []\n",
    "\n",
    "total_scores = 0\n",
    "# technically can go to the loop before\n",
    "for elf_group in elf_groups:\n",
    "    common_letter = set(elf_group[0]).intersection(set(elf_group[1])).intersection(set(elf_group[2]))\n",
    "    total_scores += letter_score[list(common_letter)[0]]\n",
    "\n",
    "print(total_scores)"
   ]
  },
  {
   "cell_type": "code",
   "execution_count": null,
   "metadata": {},
   "outputs": [],
   "source": []
  }
 ],
 "metadata": {
  "kernelspec": {
   "display_name": "Python 3.8.2 64-bit",
   "language": "python",
   "name": "python3"
  },
  "language_info": {
   "codemirror_mode": {
    "name": "ipython",
    "version": 3
   },
   "file_extension": ".py",
   "mimetype": "text/x-python",
   "name": "python",
   "nbconvert_exporter": "python",
   "pygments_lexer": "ipython3",
   "version": "3.8.2"
  },
  "orig_nbformat": 4,
  "vscode": {
   "interpreter": {
    "hash": "31f2aee4e71d21fbe5cf8b01ff0e069b9275f58929596ceb00d14d90e3e16cd6"
   }
  }
 },
 "nbformat": 4,
 "nbformat_minor": 2
}
