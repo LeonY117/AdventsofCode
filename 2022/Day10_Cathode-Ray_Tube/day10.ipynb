{
 "cells": [
  {
   "cell_type": "code",
   "execution_count": 44,
   "metadata": {},
   "outputs": [
    {
     "name": "stdout",
     "output_type": "stream",
     "text": [
      "14040\n"
     ]
    }
   ],
   "source": [
    "with open('input.txt', 'r') as f:\n",
    "    lines = f.readlines()\n",
    "\n",
    "lines = [line.strip() for line in lines] # gets rid of \\n\n",
    "\n",
    "cycle = 0\n",
    "X = 1\n",
    "check_on = [20, 60, 100, 140, 180, 220]\n",
    "history = []\n",
    "for line in lines:\n",
    "    if line == 'noop':\n",
    "        history.append(X)\n",
    "    else:\n",
    "        count = int(line.split(' ')[1])\n",
    "        history.append(X)\n",
    "        X += count\n",
    "        history.append(X)\n",
    "\n",
    "ans = 0\n",
    "for i in check_on:\n",
    "    ans += history[i-2] * (i)\n",
    "\n",
    "print(ans)\n",
    "assert(ans == 14040)"
   ]
  },
  {
   "cell_type": "code",
   "execution_count": 43,
   "metadata": {},
   "outputs": [
    {
     "name": "stdout",
     "output_type": "stream",
     "text": [
      "####..##...##....##.####...##.####.#....\n",
      "...#.#..#.#..#....#....#....#.#....#....\n",
      "..#..#....#.......#...#.....#.###..#....\n",
      ".#...#.##.#.......#..#......#.#....#....\n",
      "#....#..#.#..#.#..#.#....#..#.#....#....\n",
      "####..###..##...##..####..##..#....####.\n"
     ]
    }
   ],
   "source": [
    "out = ['' for _ in range(6)]\n",
    "\n",
    "cycle_length = 40\n",
    "sprite_pos = 1\n",
    "\n",
    "for (i, h) in enumerate(history):\n",
    "    cycle = i//40\n",
    "    crt = i % 40\n",
    "    if sprite_pos-1 <= crt <= sprite_pos+1:\n",
    "        out[cycle]+='#'\n",
    "    else:\n",
    "        out[cycle]+='.'\n",
    "\n",
    "    sprite_pos = h\n",
    "\n",
    "for line in out:\n",
    "    print(line)\n",
    "\n",
    "# ans = \"ZGCJZJFL\""
   ]
  },
  {
   "cell_type": "code",
   "execution_count": null,
   "metadata": {},
   "outputs": [],
   "source": []
  }
 ],
 "metadata": {
  "kernelspec": {
   "display_name": "Python 3.8.2 64-bit",
   "language": "python",
   "name": "python3"
  },
  "language_info": {
   "codemirror_mode": {
    "name": "ipython",
    "version": 3
   },
   "file_extension": ".py",
   "mimetype": "text/x-python",
   "name": "python",
   "nbconvert_exporter": "python",
   "pygments_lexer": "ipython3",
   "version": "3.8.2"
  },
  "orig_nbformat": 4,
  "vscode": {
   "interpreter": {
    "hash": "31f2aee4e71d21fbe5cf8b01ff0e069b9275f58929596ceb00d14d90e3e16cd6"
   }
  }
 },
 "nbformat": 4,
 "nbformat_minor": 2
}
