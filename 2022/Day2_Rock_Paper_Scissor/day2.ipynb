{
 "cells": [
  {
   "cell_type": "code",
   "execution_count": 24,
   "metadata": {},
   "outputs": [
    {
     "name": "stdout",
     "output_type": "stream",
     "text": [
      "12276\n"
     ]
    }
   ],
   "source": [
    "games = []\n",
    "\n",
    "opponent_to_RPS = {'A': 'R', 'B': 'P', 'C': 'S'}\n",
    "me_to_RPS = {'X': 'R', 'Y': 'P', 'Z': 'S'}\n",
    "\n",
    "# get a tuple from the input text\n",
    "with open(\"input.txt\", 'r') as f:\n",
    "    lines = f.readlines()\n",
    "    for line in lines:\n",
    "        opponent, me = line.replace('\\n', '').split(' ')\n",
    "        games.append([opponent_to_RPS[opponent], me_to_RPS[me]])\n",
    "\n",
    "# create a dictionary for checking win conditions\n",
    "loses_to = {'R': 'S', 'S': 'P', 'P': 'R'}\n",
    "\n",
    "RPS_points = {'R': 1, 'P': 2, 'S': 3}\n",
    "\n",
    "total_points = 0\n",
    "for game in games:\n",
    "    opponent, me = game[0], game[1]\n",
    "    total_points += RPS_points[me]\n",
    "    # draw\n",
    "    if opponent == me:\n",
    "        total_points += 3\n",
    "    # win\n",
    "    elif opponent == loses_to[me]:\n",
    "        total_points += 6\n",
    "    # lose\n",
    "    else:\n",
    "        continue\n",
    "\n",
    "print(total_points)\n"
   ]
  },
  {
   "cell_type": "code",
   "execution_count": 25,
   "metadata": {},
   "outputs": [
    {
     "name": "stdout",
     "output_type": "stream",
     "text": [
      "9975\n"
     ]
    }
   ],
   "source": [
    "total_points = 0\n",
    "for game in games:\n",
    "    opponent, result = game[0], game[1]\n",
    "    opp_point = RPS_points[opponent] - 1 # helps with mod\n",
    "    total_points += 1 # add back from mod\n",
    "\n",
    "    # draw:\n",
    "    if result == 'P':\n",
    "        total_points +=  opp_point + 3\n",
    "    # win\n",
    "    elif result == 'S':\n",
    "        total_points +=  (opp_point+1)%3 + 6\n",
    "    # lose\n",
    "    elif result == 'R':\n",
    "        total_points +=  (opp_point-1)%3\n",
    "    \n",
    "print(total_points)"
   ]
  },
  {
   "cell_type": "code",
   "execution_count": null,
   "metadata": {},
   "outputs": [],
   "source": [
    "# Got scammed by the elf!"
   ]
  }
 ],
 "metadata": {
  "kernelspec": {
   "display_name": "Python 3.8.2 64-bit",
   "language": "python",
   "name": "python3"
  },
  "language_info": {
   "codemirror_mode": {
    "name": "ipython",
    "version": 3
   },
   "file_extension": ".py",
   "mimetype": "text/x-python",
   "name": "python",
   "nbconvert_exporter": "python",
   "pygments_lexer": "ipython3",
   "version": "3.8.2"
  },
  "orig_nbformat": 4,
  "vscode": {
   "interpreter": {
    "hash": "31f2aee4e71d21fbe5cf8b01ff0e069b9275f58929596ceb00d14d90e3e16cd6"
   }
  }
 },
 "nbformat": 4,
 "nbformat_minor": 2
}
