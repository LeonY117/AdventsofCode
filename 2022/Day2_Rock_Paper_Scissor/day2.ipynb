{
 "cells": [
  {
   "cell_type": "code",
   "execution_count": 24,
   "metadata": {},
   "outputs": [
    {
     "name": "stdout",
     "output_type": "stream",
     "text": [
      "12276\n"
     ]
    }
   ],
   "source": [
    "games = []\n",
    "\n",
    "opponent_to_RSP = {\n",
    "    'A': 'R',\n",
    "    'B': 'P',\n",
    "    'C': 'S'\n",
    "}\n",
    "\n",
    "me_to_RSP = {\n",
    "    'X': 'R',\n",
    "    'Y': 'P',\n",
    "    'Z': 'S'\n",
    "}\n",
    "\n",
    "# get a tuple from the input text\n",
    "with open(\"input.txt\", 'r') as f:\n",
    "    lines = f.readlines()\n",
    "    for line in lines:\n",
    "        opponent, me = line.replace('\\n', '').split(' ')\n",
    "        games.append([opponent_to_RSP[opponent], me_to_RSP[me]])\n",
    "\n",
    "# create a dictionary for checking win conditions\n",
    "loses_to = {\n",
    "    'R': 'S',\n",
    "    'S': 'P',\n",
    "    'P': 'R'\n",
    "}\n",
    "\n",
    "RPS_points = {\n",
    "    'R': 1,\n",
    "    'P': 2,\n",
    "    'S': 3\n",
    "}\n",
    "\n",
    "total_points = 0\n",
    "for game in games:\n",
    "    opponent, me = game[0], game[1]\n",
    "    choice_points = RPS_points[me]\n",
    "    if opponent == me:\n",
    "        # draw\n",
    "        total_points += choice_points + 3\n",
    "    elif opponent == loses_to[me]:\n",
    "        # win\n",
    "        total_points += choice_points + 6\n",
    "    else:\n",
    "        # lose\n",
    "        total_points += choice_points\n",
    "\n",
    "print(total_points)\n"
   ]
  },
  {
   "cell_type": "code",
   "execution_count": 25,
   "metadata": {},
   "outputs": [
    {
     "name": "stdout",
     "output_type": "stream",
     "text": [
      "9975\n"
     ]
    }
   ],
   "source": [
    "total_points = 0\n",
    "for game in games:\n",
    "    opponent, result = game[0], game[1]\n",
    "    opp_point = RPS_points[opponent] - 1 # helps with mod\n",
    "    # check if draw:\n",
    "    if result == 'P':\n",
    "        # draw\n",
    "        my_choice_point = opp_point\n",
    "        total_points += my_choice_point + 3\n",
    "    elif result == 'S':\n",
    "        # win\n",
    "        my_choice_point = (opp_point+1)%3\n",
    "        total_points += my_choice_point + 6\n",
    "    elif result == 'R':\n",
    "        # lose\n",
    "        my_choice_point = (opp_point-1)%3\n",
    "        total_points += my_choice_point\n",
    "    total_points += 1 # add back from mod\n",
    "    \n",
    "print(total_points)"
   ]
  },
  {
   "cell_type": "code",
   "execution_count": null,
   "metadata": {},
   "outputs": [],
   "source": []
  }
 ],
 "metadata": {
  "kernelspec": {
   "display_name": "Python 3.8.2 64-bit",
   "language": "python",
   "name": "python3"
  },
  "language_info": {
   "codemirror_mode": {
    "name": "ipython",
    "version": 3
   },
   "file_extension": ".py",
   "mimetype": "text/x-python",
   "name": "python",
   "nbconvert_exporter": "python",
   "pygments_lexer": "ipython3",
   "version": "3.8.2"
  },
  "orig_nbformat": 4,
  "vscode": {
   "interpreter": {
    "hash": "31f2aee4e71d21fbe5cf8b01ff0e069b9275f58929596ceb00d14d90e3e16cd6"
   }
  }
 },
 "nbformat": 4,
 "nbformat_minor": 2
}
