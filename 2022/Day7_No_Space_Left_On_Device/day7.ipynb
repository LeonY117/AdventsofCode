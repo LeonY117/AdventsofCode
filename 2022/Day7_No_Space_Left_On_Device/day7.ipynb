{
 "cells": [
  {
   "cell_type": "code",
   "execution_count": 72,
   "metadata": {},
   "outputs": [
    {
     "name": "stdout",
     "output_type": "stream",
     "text": [
      "1770595\n"
     ]
    }
   ],
   "source": [
    "with open('input.txt', 'r') as f:\n",
    "    lines = f.readlines()\n",
    "\n",
    "lines = [line.strip() for line in lines] # gets rid of \\n\n",
    "\n",
    "folder_sizes = [0]\n",
    "folder_history = [] # stores index of history\n",
    "curr = 0\n",
    "size_buffer = 0\n",
    "\n",
    "# do everything in one pass without creating the folders explicitly\n",
    "for line in lines[1:]:\n",
    "    if line.startswith('$ cd'):\n",
    "        move_to = line[5:]\n",
    "        if move_to == '..':\n",
    "            curr = folder_history.pop()\n",
    "            folder_sizes[curr] += size_buffer\n",
    "            size_buffer = folder_sizes[curr]\n",
    "        else:\n",
    "            folder_sizes.append(0)\n",
    "            folder_history.append(curr)\n",
    "            curr = len(folder_sizes)-1 # index of last folder_sizes\n",
    "            size_buffer = 0\n",
    "    if line[0].isdigit():\n",
    "        size = int(line.split(' ')[0])\n",
    "        folder_sizes[curr] += size\n",
    "        size_buffer += size\n",
    "\n",
    "# traverse all the way back \n",
    "while folder_history:\n",
    "    curr = folder_history.pop()\n",
    "    folder_sizes[curr] += size_buffer\n",
    "    size_buffer = folder_sizes[curr]\n",
    "\n",
    "answer = sum([size for size in folder_sizes if size < 100000])\n",
    "\n",
    "print(answer)\n",
    "# be cool and assert like fin\n",
    "assert(answer == 1770595)"
   ]
  },
  {
   "cell_type": "code",
   "execution_count": 73,
   "metadata": {},
   "outputs": [
    {
     "name": "stdout",
     "output_type": "stream",
     "text": [
      "2195372\n"
     ]
    }
   ],
   "source": [
    "spare_space = 30000000 - (70000000 - folder_sizes[0])\n",
    "\n",
    "min = 99999999\n",
    "for size in folder_sizes:\n",
    "    if spare_space < size and size < min:\n",
    "        min = size\n",
    "\n",
    "print(min)\n",
    "# be cool and assert like fin\n",
    "assert(min == 2195372)"
   ]
  },
  {
   "cell_type": "code",
   "execution_count": null,
   "metadata": {},
   "outputs": [],
   "source": []
  }
 ],
 "metadata": {
  "kernelspec": {
   "display_name": "Python 3.9.7 ('base')",
   "language": "python",
   "name": "python3"
  },
  "language_info": {
   "codemirror_mode": {
    "name": "ipython",
    "version": 3
   },
   "file_extension": ".py",
   "mimetype": "text/x-python",
   "name": "python",
   "nbconvert_exporter": "python",
   "pygments_lexer": "ipython3",
   "version": "3.9.7"
  },
  "orig_nbformat": 4,
  "vscode": {
   "interpreter": {
    "hash": "962cc4cc4cbfc7601b945c9aaae47e2c73c008fbb378fc409194f8d345541673"
   }
  }
 },
 "nbformat": 4,
 "nbformat_minor": 2
}
