{
 "cells": [
  {
   "cell_type": "code",
   "execution_count": 5,
   "metadata": {},
   "outputs": [
    {
     "name": "stdout",
     "output_type": "stream",
     "text": [
      "1848\n"
     ]
    }
   ],
   "source": [
    "with open('input.txt', 'r') as f:\n",
    "    lines = f.readlines()\n",
    "\n",
    "characters = lines[0]\n",
    "\n",
    "buffer = characters[0:4]\n",
    "for i in range(3, len(characters)):\n",
    "    c = characters[i]\n",
    "    if len(set(buffer)) == len(buffer):\n",
    "        print(i)\n",
    "        break\n",
    "    else:\n",
    "        buffer = buffer[1:] + c"
   ]
  },
  {
   "cell_type": "code",
   "execution_count": null,
   "metadata": {},
   "outputs": [],
   "source": [
    "buffer = characters[0:14]\n",
    "for i in range(13, len(characters)):\n",
    "    c = characters[i]\n",
    "    if len(set(buffer)) == len(buffer):\n",
    "        print(i)\n",
    "        break\n",
    "    else:\n",
    "        buffer = buffer[1:] + c"
   ]
  }
 ],
 "metadata": {
  "kernelspec": {
   "display_name": "Python 3.8.2 64-bit",
   "language": "python",
   "name": "python3"
  },
  "language_info": {
   "codemirror_mode": {
    "name": "ipython",
    "version": 3
   },
   "file_extension": ".py",
   "mimetype": "text/x-python",
   "name": "python",
   "nbconvert_exporter": "python",
   "pygments_lexer": "ipython3",
   "version": "3.8.2"
  },
  "orig_nbformat": 4,
  "vscode": {
   "interpreter": {
    "hash": "31f2aee4e71d21fbe5cf8b01ff0e069b9275f58929596ceb00d14d90e3e16cd6"
   }
  }
 },
 "nbformat": 4,
 "nbformat_minor": 2
}
